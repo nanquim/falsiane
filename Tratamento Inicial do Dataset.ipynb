{
 "cells": [
  {
   "cell_type": "markdown",
   "id": "8619f63e",
   "metadata": {},
   "source": [
    "## Importações"
   ]
  },
  {
   "cell_type": "code",
   "execution_count": 1,
   "id": "4a20ef1e",
   "metadata": {},
   "outputs": [],
   "source": [
    "import pandas as pd"
   ]
  },
  {
   "cell_type": "markdown",
   "id": "b25fec4b",
   "metadata": {},
   "source": [
    "## Criando os dataframes"
   ]
  },
  {
   "cell_type": "code",
   "execution_count": 2,
   "id": "123ec032",
   "metadata": {},
   "outputs": [],
   "source": [
    "df_verdadeiras = pd.read_csv('verdadeiras.csv')\n",
    "df_falsas = pd.read_csv('falsas.csv')"
   ]
  },
  {
   "cell_type": "code",
   "execution_count": 3,
   "id": "6aa56556",
   "metadata": {},
   "outputs": [
    {
     "data": {
      "text/html": [
       "<div>\n",
       "<style scoped>\n",
       "    .dataframe tbody tr th:only-of-type {\n",
       "        vertical-align: middle;\n",
       "    }\n",
       "\n",
       "    .dataframe tbody tr th {\n",
       "        vertical-align: top;\n",
       "    }\n",
       "\n",
       "    .dataframe thead th {\n",
       "        text-align: right;\n",
       "    }\n",
       "</style>\n",
       "<table border=\"1\" class=\"dataframe\">\n",
       "  <thead>\n",
       "    <tr style=\"text-align: right;\">\n",
       "      <th></th>\n",
       "      <th>Titulo</th>\n",
       "      <th>Categoria</th>\n",
       "      <th>Resumo</th>\n",
       "      <th>Status</th>\n",
       "    </tr>\n",
       "  </thead>\n",
       "  <tbody>\n",
       "    <tr>\n",
       "      <th>0</th>\n",
       "      <td>Max Born, o físico quântico que alertou o mund...</td>\n",
       "      <td>ciencia</td>\n",
       "      <td>Avô de Olivia Newton-John e amigo de Einstein,...</td>\n",
       "      <td>Verdadeira</td>\n",
       "    </tr>\n",
       "    <tr>\n",
       "      <th>1</th>\n",
       "      <td>“A contenção do idoso é uma manifestação de et...</td>\n",
       "      <td>ciencia</td>\n",
       "      <td>O enfermeiro Rômulo Delvalle faz parte do Mini...</td>\n",
       "      <td>Verdadeira</td>\n",
       "    </tr>\n",
       "    <tr>\n",
       "      <th>2</th>\n",
       "      <td>Hubble flagra 'nuvens celestiais' e estrela ve...</td>\n",
       "      <td>ciencia</td>\n",
       "      <td>Nova imagem e dados científicos do telescópio ...</td>\n",
       "      <td>Verdadeira</td>\n",
       "    </tr>\n",
       "    <tr>\n",
       "      <th>3</th>\n",
       "      <td>O que é a arquitetura passiva, com casas onde ...</td>\n",
       "      <td>ciencia</td>\n",
       "      <td>O conceito surgiu com a crise do petróleo dos ...</td>\n",
       "      <td>Verdadeira</td>\n",
       "    </tr>\n",
       "    <tr>\n",
       "      <th>4</th>\n",
       "      <td>Como escovar os dentes direito? O que diz a ci...</td>\n",
       "      <td>ciencia</td>\n",
       "      <td>Escovar os dentes de maneira eficaz reduz as c...</td>\n",
       "      <td>Verdadeira</td>\n",
       "    </tr>\n",
       "  </tbody>\n",
       "</table>\n",
       "</div>"
      ],
      "text/plain": [
       "                                              Titulo Categoria  \\\n",
       "0  Max Born, o físico quântico que alertou o mund...   ciencia   \n",
       "1  “A contenção do idoso é uma manifestação de et...   ciencia   \n",
       "2  Hubble flagra 'nuvens celestiais' e estrela ve...   ciencia   \n",
       "3  O que é a arquitetura passiva, com casas onde ...   ciencia   \n",
       "4  Como escovar os dentes direito? O que diz a ci...   ciencia   \n",
       "\n",
       "                                              Resumo      Status  \n",
       "0  Avô de Olivia Newton-John e amigo de Einstein,...  Verdadeira  \n",
       "1  O enfermeiro Rômulo Delvalle faz parte do Mini...  Verdadeira  \n",
       "2  Nova imagem e dados científicos do telescópio ...  Verdadeira  \n",
       "3  O conceito surgiu com a crise do petróleo dos ...  Verdadeira  \n",
       "4  Escovar os dentes de maneira eficaz reduz as c...  Verdadeira  "
      ]
     },
     "execution_count": 3,
     "metadata": {},
     "output_type": "execute_result"
    }
   ],
   "source": [
    "df_verdadeiras.head()"
   ]
  },
  {
   "cell_type": "code",
   "execution_count": 4,
   "id": "ee29910c",
   "metadata": {},
   "outputs": [
    {
     "data": {
      "text/html": [
       "<div>\n",
       "<style scoped>\n",
       "    .dataframe tbody tr th:only-of-type {\n",
       "        vertical-align: middle;\n",
       "    }\n",
       "\n",
       "    .dataframe tbody tr th {\n",
       "        vertical-align: top;\n",
       "    }\n",
       "\n",
       "    .dataframe thead th {\n",
       "        text-align: right;\n",
       "    }\n",
       "</style>\n",
       "<table border=\"1\" class=\"dataframe\">\n",
       "  <thead>\n",
       "    <tr style=\"text-align: right;\">\n",
       "      <th></th>\n",
       "      <th>Titulo</th>\n",
       "      <th>Categoria</th>\n",
       "      <th>Resumo</th>\n",
       "      <th>Data</th>\n",
       "      <th>Status</th>\n",
       "    </tr>\n",
       "  </thead>\n",
       "  <tbody>\n",
       "    <tr>\n",
       "      <th>0</th>\n",
       "      <td>\\nFenômeno Aphelion chega amanhã e vai trazer ...</td>\n",
       "      <td>ciencia</td>\n",
       "      <td>Terra vai ficar mais longe do Sol amanhã, por ...</td>\n",
       "      <td>25/04/2022</td>\n",
       "      <td>Falsa</td>\n",
       "    </tr>\n",
       "    <tr>\n",
       "      <th>1</th>\n",
       "      <td>\\nAsteroide 2009 JF1 vai destruir a Terra em m...</td>\n",
       "      <td>ciencia</td>\n",
       "      <td>Asteroide de 130 metros e com força de 250 mil...</td>\n",
       "      <td>13/01/2022</td>\n",
       "      <td>Falsa</td>\n",
       "    </tr>\n",
       "    <tr>\n",
       "      <th>2</th>\n",
       "      <td>\\nAranha se esconde na praia, parece obra de a...</td>\n",
       "      <td>ciencia</td>\n",
       "      <td>Aranha de espécie mortal, que parece uma obra ...</td>\n",
       "      <td>09/11/2021</td>\n",
       "      <td>Falsa</td>\n",
       "    </tr>\n",
       "    <tr>\n",
       "      <th>3</th>\n",
       "      <td>\\nHá um Vulcão em Ribeirão Preto (São Paulo) p...</td>\n",
       "      <td>ciencia</td>\n",
       "      <td>Fumaça tóxica que está saindo do solo em Ribei...</td>\n",
       "      <td>05/11/2021</td>\n",
       "      <td>Falsa</td>\n",
       "    </tr>\n",
       "    <tr>\n",
       "      <th>4</th>\n",
       "      <td>\\nPerigeu da Lua gigante entre o Canadá e Rúss...</td>\n",
       "      <td>ciencia</td>\n",
       "      <td>Vídeo mostra o fenômeno da Lua chamado Perigeu...</td>\n",
       "      <td>27/08/2021</td>\n",
       "      <td>Falsa</td>\n",
       "    </tr>\n",
       "  </tbody>\n",
       "</table>\n",
       "</div>"
      ],
      "text/plain": [
       "                                              Titulo Categoria  \\\n",
       "0  \\nFenômeno Aphelion chega amanhã e vai trazer ...   ciencia   \n",
       "1  \\nAsteroide 2009 JF1 vai destruir a Terra em m...   ciencia   \n",
       "2  \\nAranha se esconde na praia, parece obra de a...   ciencia   \n",
       "3  \\nHá um Vulcão em Ribeirão Preto (São Paulo) p...   ciencia   \n",
       "4  \\nPerigeu da Lua gigante entre o Canadá e Rúss...   ciencia   \n",
       "\n",
       "                                              Resumo        Data Status  \n",
       "0  Terra vai ficar mais longe do Sol amanhã, por ...  25/04/2022  Falsa  \n",
       "1  Asteroide de 130 metros e com força de 250 mil...  13/01/2022  Falsa  \n",
       "2  Aranha de espécie mortal, que parece uma obra ...  09/11/2021  Falsa  \n",
       "3  Fumaça tóxica que está saindo do solo em Ribei...  05/11/2021  Falsa  \n",
       "4  Vídeo mostra o fenômeno da Lua chamado Perigeu...  27/08/2021  Falsa  "
      ]
     },
     "execution_count": 4,
     "metadata": {},
     "output_type": "execute_result"
    }
   ],
   "source": [
    "df_falsas.head()"
   ]
  },
  {
   "cell_type": "markdown",
   "id": "cef4461f",
   "metadata": {},
   "source": [
    "### Deletando coluna para os dataframes ficarem iguais\n",
    "\n",
    "Devido a um erro de timeout, o algoritmo de scraping das notícias verdadeiras acabou não pegando as datas.\n",
    "Por isso, será excluído do dataset de falsas"
   ]
  },
  {
   "cell_type": "code",
   "execution_count": 5,
   "id": "007d58da",
   "metadata": {},
   "outputs": [
    {
     "data": {
      "text/html": [
       "<div>\n",
       "<style scoped>\n",
       "    .dataframe tbody tr th:only-of-type {\n",
       "        vertical-align: middle;\n",
       "    }\n",
       "\n",
       "    .dataframe tbody tr th {\n",
       "        vertical-align: top;\n",
       "    }\n",
       "\n",
       "    .dataframe thead th {\n",
       "        text-align: right;\n",
       "    }\n",
       "</style>\n",
       "<table border=\"1\" class=\"dataframe\">\n",
       "  <thead>\n",
       "    <tr style=\"text-align: right;\">\n",
       "      <th></th>\n",
       "      <th>Titulo</th>\n",
       "      <th>Categoria</th>\n",
       "      <th>Resumo</th>\n",
       "      <th>Status</th>\n",
       "    </tr>\n",
       "  </thead>\n",
       "  <tbody>\n",
       "    <tr>\n",
       "      <th>0</th>\n",
       "      <td>\\nFenômeno Aphelion chega amanhã e vai trazer ...</td>\n",
       "      <td>ciencia</td>\n",
       "      <td>Terra vai ficar mais longe do Sol amanhã, por ...</td>\n",
       "      <td>Falsa</td>\n",
       "    </tr>\n",
       "    <tr>\n",
       "      <th>1</th>\n",
       "      <td>\\nAsteroide 2009 JF1 vai destruir a Terra em m...</td>\n",
       "      <td>ciencia</td>\n",
       "      <td>Asteroide de 130 metros e com força de 250 mil...</td>\n",
       "      <td>Falsa</td>\n",
       "    </tr>\n",
       "    <tr>\n",
       "      <th>2</th>\n",
       "      <td>\\nAranha se esconde na praia, parece obra de a...</td>\n",
       "      <td>ciencia</td>\n",
       "      <td>Aranha de espécie mortal, que parece uma obra ...</td>\n",
       "      <td>Falsa</td>\n",
       "    </tr>\n",
       "    <tr>\n",
       "      <th>3</th>\n",
       "      <td>\\nHá um Vulcão em Ribeirão Preto (São Paulo) p...</td>\n",
       "      <td>ciencia</td>\n",
       "      <td>Fumaça tóxica que está saindo do solo em Ribei...</td>\n",
       "      <td>Falsa</td>\n",
       "    </tr>\n",
       "    <tr>\n",
       "      <th>4</th>\n",
       "      <td>\\nPerigeu da Lua gigante entre o Canadá e Rúss...</td>\n",
       "      <td>ciencia</td>\n",
       "      <td>Vídeo mostra o fenômeno da Lua chamado Perigeu...</td>\n",
       "      <td>Falsa</td>\n",
       "    </tr>\n",
       "  </tbody>\n",
       "</table>\n",
       "</div>"
      ],
      "text/plain": [
       "                                              Titulo Categoria  \\\n",
       "0  \\nFenômeno Aphelion chega amanhã e vai trazer ...   ciencia   \n",
       "1  \\nAsteroide 2009 JF1 vai destruir a Terra em m...   ciencia   \n",
       "2  \\nAranha se esconde na praia, parece obra de a...   ciencia   \n",
       "3  \\nHá um Vulcão em Ribeirão Preto (São Paulo) p...   ciencia   \n",
       "4  \\nPerigeu da Lua gigante entre o Canadá e Rúss...   ciencia   \n",
       "\n",
       "                                              Resumo Status  \n",
       "0  Terra vai ficar mais longe do Sol amanhã, por ...  Falsa  \n",
       "1  Asteroide de 130 metros e com força de 250 mil...  Falsa  \n",
       "2  Aranha de espécie mortal, que parece uma obra ...  Falsa  \n",
       "3  Fumaça tóxica que está saindo do solo em Ribei...  Falsa  \n",
       "4  Vídeo mostra o fenômeno da Lua chamado Perigeu...  Falsa  "
      ]
     },
     "execution_count": 5,
     "metadata": {},
     "output_type": "execute_result"
    }
   ],
   "source": [
    "del df_falsas['Data']\n",
    "df_falsas.head()"
   ]
  },
  {
   "cell_type": "markdown",
   "id": "a34f909f",
   "metadata": {},
   "source": [
    "## Concatenando os datasets"
   ]
  },
  {
   "cell_type": "code",
   "execution_count": 6,
   "id": "4e4d62ef",
   "metadata": {},
   "outputs": [],
   "source": [
    "df = df_verdadeiras.append(df_falsas)"
   ]
  },
  {
   "cell_type": "code",
   "execution_count": 7,
   "id": "44cfdb32",
   "metadata": {},
   "outputs": [
    {
     "data": {
      "text/html": [
       "<div>\n",
       "<style scoped>\n",
       "    .dataframe tbody tr th:only-of-type {\n",
       "        vertical-align: middle;\n",
       "    }\n",
       "\n",
       "    .dataframe tbody tr th {\n",
       "        vertical-align: top;\n",
       "    }\n",
       "\n",
       "    .dataframe thead th {\n",
       "        text-align: right;\n",
       "    }\n",
       "</style>\n",
       "<table border=\"1\" class=\"dataframe\">\n",
       "  <thead>\n",
       "    <tr style=\"text-align: right;\">\n",
       "      <th></th>\n",
       "      <th>Titulo</th>\n",
       "      <th>Categoria</th>\n",
       "      <th>Resumo</th>\n",
       "      <th>Status</th>\n",
       "    </tr>\n",
       "  </thead>\n",
       "  <tbody>\n",
       "    <tr>\n",
       "      <th>0</th>\n",
       "      <td>Max Born, o físico quântico que alertou o mund...</td>\n",
       "      <td>ciencia</td>\n",
       "      <td>Avô de Olivia Newton-John e amigo de Einstein,...</td>\n",
       "      <td>Verdadeira</td>\n",
       "    </tr>\n",
       "    <tr>\n",
       "      <th>1</th>\n",
       "      <td>“A contenção do idoso é uma manifestação de et...</td>\n",
       "      <td>ciencia</td>\n",
       "      <td>O enfermeiro Rômulo Delvalle faz parte do Mini...</td>\n",
       "      <td>Verdadeira</td>\n",
       "    </tr>\n",
       "    <tr>\n",
       "      <th>2</th>\n",
       "      <td>Hubble flagra 'nuvens celestiais' e estrela ve...</td>\n",
       "      <td>ciencia</td>\n",
       "      <td>Nova imagem e dados científicos do telescópio ...</td>\n",
       "      <td>Verdadeira</td>\n",
       "    </tr>\n",
       "    <tr>\n",
       "      <th>3</th>\n",
       "      <td>O que é a arquitetura passiva, com casas onde ...</td>\n",
       "      <td>ciencia</td>\n",
       "      <td>O conceito surgiu com a crise do petróleo dos ...</td>\n",
       "      <td>Verdadeira</td>\n",
       "    </tr>\n",
       "    <tr>\n",
       "      <th>4</th>\n",
       "      <td>Como escovar os dentes direito? O que diz a ci...</td>\n",
       "      <td>ciencia</td>\n",
       "      <td>Escovar os dentes de maneira eficaz reduz as c...</td>\n",
       "      <td>Verdadeira</td>\n",
       "    </tr>\n",
       "  </tbody>\n",
       "</table>\n",
       "</div>"
      ],
      "text/plain": [
       "                                              Titulo Categoria  \\\n",
       "0  Max Born, o físico quântico que alertou o mund...   ciencia   \n",
       "1  “A contenção do idoso é uma manifestação de et...   ciencia   \n",
       "2  Hubble flagra 'nuvens celestiais' e estrela ve...   ciencia   \n",
       "3  O que é a arquitetura passiva, com casas onde ...   ciencia   \n",
       "4  Como escovar os dentes direito? O que diz a ci...   ciencia   \n",
       "\n",
       "                                              Resumo      Status  \n",
       "0  Avô de Olivia Newton-John e amigo de Einstein,...  Verdadeira  \n",
       "1  O enfermeiro Rômulo Delvalle faz parte do Mini...  Verdadeira  \n",
       "2  Nova imagem e dados científicos do telescópio ...  Verdadeira  \n",
       "3  O conceito surgiu com a crise do petróleo dos ...  Verdadeira  \n",
       "4  Escovar os dentes de maneira eficaz reduz as c...  Verdadeira  "
      ]
     },
     "execution_count": 7,
     "metadata": {},
     "output_type": "execute_result"
    }
   ],
   "source": [
    "df.head()"
   ]
  },
  {
   "cell_type": "code",
   "execution_count": 8,
   "id": "4b76f560",
   "metadata": {},
   "outputs": [
    {
     "name": "stdout",
     "output_type": "stream",
     "text": [
      "<class 'pandas.core.frame.DataFrame'>\n",
      "Int64Index: 8659 entries, 0 to 3728\n",
      "Data columns (total 4 columns):\n",
      " #   Column     Non-Null Count  Dtype \n",
      "---  ------     --------------  ----- \n",
      " 0   Titulo     8659 non-null   object\n",
      " 1   Categoria  8659 non-null   object\n",
      " 2   Resumo     8659 non-null   object\n",
      " 3   Status     8659 non-null   object\n",
      "dtypes: object(4)\n",
      "memory usage: 338.2+ KB\n"
     ]
    }
   ],
   "source": [
    "df.info()"
   ]
  },
  {
   "cell_type": "code",
   "execution_count": 9,
   "id": "82ba7b10",
   "metadata": {},
   "outputs": [
    {
     "data": {
      "text/html": [
       "<div>\n",
       "<style scoped>\n",
       "    .dataframe tbody tr th:only-of-type {\n",
       "        vertical-align: middle;\n",
       "    }\n",
       "\n",
       "    .dataframe tbody tr th {\n",
       "        vertical-align: top;\n",
       "    }\n",
       "\n",
       "    .dataframe thead th {\n",
       "        text-align: right;\n",
       "    }\n",
       "</style>\n",
       "<table border=\"1\" class=\"dataframe\">\n",
       "  <thead>\n",
       "    <tr style=\"text-align: right;\">\n",
       "      <th></th>\n",
       "      <th>Titulo</th>\n",
       "      <th>Categoria</th>\n",
       "      <th>Resumo</th>\n",
       "      <th>Status</th>\n",
       "    </tr>\n",
       "  </thead>\n",
       "  <tbody>\n",
       "    <tr>\n",
       "      <th>count</th>\n",
       "      <td>8659</td>\n",
       "      <td>8659</td>\n",
       "      <td>8659</td>\n",
       "      <td>8659</td>\n",
       "    </tr>\n",
       "    <tr>\n",
       "      <th>unique</th>\n",
       "      <td>8214</td>\n",
       "      <td>5</td>\n",
       "      <td>8018</td>\n",
       "      <td>2</td>\n",
       "    </tr>\n",
       "    <tr>\n",
       "      <th>top</th>\n",
       "      <td>China lança missão para concluir montagem de e...</td>\n",
       "      <td>politica</td>\n",
       "      <td>Erro</td>\n",
       "      <td>Verdadeira</td>\n",
       "    </tr>\n",
       "    <tr>\n",
       "      <th>freq</th>\n",
       "      <td>3</td>\n",
       "      <td>1990</td>\n",
       "      <td>170</td>\n",
       "      <td>4930</td>\n",
       "    </tr>\n",
       "  </tbody>\n",
       "</table>\n",
       "</div>"
      ],
      "text/plain": [
       "                                                   Titulo Categoria Resumo  \\\n",
       "count                                                8659      8659   8659   \n",
       "unique                                               8214         5   8018   \n",
       "top     China lança missão para concluir montagem de e...  politica   Erro   \n",
       "freq                                                    3      1990    170   \n",
       "\n",
       "            Status  \n",
       "count         8659  \n",
       "unique           2  \n",
       "top     Verdadeira  \n",
       "freq          4930  "
      ]
     },
     "execution_count": 9,
     "metadata": {},
     "output_type": "execute_result"
    }
   ],
   "source": [
    "df.describe()"
   ]
  },
  {
   "cell_type": "markdown",
   "id": "ff4c7c90",
   "metadata": {},
   "source": [
    "### Removendo linhas sem resumo\n",
    "\n",
    "Como o HTML das páginas aprensetava muitas diferenças no campo resumo, ficou inviável tratar todas as possibilidades.\n",
    "Sendo assim, optou-se por incluir as linhas com mensagem de erro. Como é um quantidade pequena e o resumo é primordial\n",
    "para a nossa análise, essas linhas com erro serão excluídas."
   ]
  },
  {
   "cell_type": "code",
   "execution_count": 10,
   "id": "57db514b",
   "metadata": {},
   "outputs": [],
   "source": [
    "erros_resumo = df.loc[df['Resumo'] == 'Erro']"
   ]
  },
  {
   "cell_type": "code",
   "execution_count": 11,
   "id": "3c3211b7",
   "metadata": {},
   "outputs": [
    {
     "data": {
      "text/html": [
       "<div>\n",
       "<style scoped>\n",
       "    .dataframe tbody tr th:only-of-type {\n",
       "        vertical-align: middle;\n",
       "    }\n",
       "\n",
       "    .dataframe tbody tr th {\n",
       "        vertical-align: top;\n",
       "    }\n",
       "\n",
       "    .dataframe thead th {\n",
       "        text-align: right;\n",
       "    }\n",
       "</style>\n",
       "<table border=\"1\" class=\"dataframe\">\n",
       "  <thead>\n",
       "    <tr style=\"text-align: right;\">\n",
       "      <th></th>\n",
       "      <th>Titulo</th>\n",
       "      <th>Categoria</th>\n",
       "      <th>Resumo</th>\n",
       "      <th>Status</th>\n",
       "    </tr>\n",
       "  </thead>\n",
       "  <tbody>\n",
       "    <tr>\n",
       "      <th>74</th>\n",
       "      <td>Viagem à Lua: minuto a minuto</td>\n",
       "      <td>ciencia</td>\n",
       "      <td>Erro</td>\n",
       "      <td>Verdadeira</td>\n",
       "    </tr>\n",
       "    <tr>\n",
       "      <th>85</th>\n",
       "      <td>Entenda por que mosquitos picam mais algumas p...</td>\n",
       "      <td>ciencia</td>\n",
       "      <td>Erro</td>\n",
       "      <td>Verdadeira</td>\n",
       "    </tr>\n",
       "    <tr>\n",
       "      <th>91</th>\n",
       "      <td>James Webb: o que revelam as fotos do supertel...</td>\n",
       "      <td>ciencia</td>\n",
       "      <td>Erro</td>\n",
       "      <td>Verdadeira</td>\n",
       "    </tr>\n",
       "    <tr>\n",
       "      <th>135</th>\n",
       "      <td>Sua cor preferida é o azul? A ciência pode exp...</td>\n",
       "      <td>ciencia</td>\n",
       "      <td>Erro</td>\n",
       "      <td>Verdadeira</td>\n",
       "    </tr>\n",
       "    <tr>\n",
       "      <th>142</th>\n",
       "      <td>Kemune: a cidade de 3,4 mil anos que reaparece...</td>\n",
       "      <td>ciencia</td>\n",
       "      <td>Erro</td>\n",
       "      <td>Verdadeira</td>\n",
       "    </tr>\n",
       "    <tr>\n",
       "      <th>...</th>\n",
       "      <td>...</td>\n",
       "      <td>...</td>\n",
       "      <td>...</td>\n",
       "      <td>...</td>\n",
       "    </tr>\n",
       "    <tr>\n",
       "      <th>4244</th>\n",
       "      <td>Você sabe a maneira correta para higienizar se...</td>\n",
       "      <td>tecnologia</td>\n",
       "      <td>Erro</td>\n",
       "      <td>Verdadeira</td>\n",
       "    </tr>\n",
       "    <tr>\n",
       "      <th>4324</th>\n",
       "      <td>Veja como proteger acesso a apps de bancos</td>\n",
       "      <td>tecnologia</td>\n",
       "      <td>Erro</td>\n",
       "      <td>Verdadeira</td>\n",
       "    </tr>\n",
       "    <tr>\n",
       "      <th>4358</th>\n",
       "      <td>Veja dicas para não cair em golpes ao reservar...</td>\n",
       "      <td>tecnologia</td>\n",
       "      <td>Erro</td>\n",
       "      <td>Verdadeira</td>\n",
       "    </tr>\n",
       "    <tr>\n",
       "      <th>4413</th>\n",
       "      <td>O que pode mudar no Twitter com a compra por E...</td>\n",
       "      <td>tecnologia</td>\n",
       "      <td>Erro</td>\n",
       "      <td>Verdadeira</td>\n",
       "    </tr>\n",
       "    <tr>\n",
       "      <th>4709</th>\n",
       "      <td>A guerra cibernética paralela entre Rússia e U...</td>\n",
       "      <td>tecnologia</td>\n",
       "      <td>Erro</td>\n",
       "      <td>Verdadeira</td>\n",
       "    </tr>\n",
       "  </tbody>\n",
       "</table>\n",
       "<p>170 rows × 4 columns</p>\n",
       "</div>"
      ],
      "text/plain": [
       "                                                 Titulo   Categoria Resumo  \\\n",
       "74                        Viagem à Lua: minuto a minuto     ciencia   Erro   \n",
       "85    Entenda por que mosquitos picam mais algumas p...     ciencia   Erro   \n",
       "91    James Webb: o que revelam as fotos do supertel...     ciencia   Erro   \n",
       "135   Sua cor preferida é o azul? A ciência pode exp...     ciencia   Erro   \n",
       "142   Kemune: a cidade de 3,4 mil anos que reaparece...     ciencia   Erro   \n",
       "...                                                 ...         ...    ...   \n",
       "4244  Você sabe a maneira correta para higienizar se...  tecnologia   Erro   \n",
       "4324         Veja como proteger acesso a apps de bancos  tecnologia   Erro   \n",
       "4358  Veja dicas para não cair em golpes ao reservar...  tecnologia   Erro   \n",
       "4413  O que pode mudar no Twitter com a compra por E...  tecnologia   Erro   \n",
       "4709  A guerra cibernética paralela entre Rússia e U...  tecnologia   Erro   \n",
       "\n",
       "          Status  \n",
       "74    Verdadeira  \n",
       "85    Verdadeira  \n",
       "91    Verdadeira  \n",
       "135   Verdadeira  \n",
       "142   Verdadeira  \n",
       "...          ...  \n",
       "4244  Verdadeira  \n",
       "4324  Verdadeira  \n",
       "4358  Verdadeira  \n",
       "4413  Verdadeira  \n",
       "4709  Verdadeira  \n",
       "\n",
       "[170 rows x 4 columns]"
      ]
     },
     "execution_count": 11,
     "metadata": {},
     "output_type": "execute_result"
    }
   ],
   "source": [
    "erros_resumo"
   ]
  },
  {
   "cell_type": "code",
   "execution_count": 12,
   "id": "7787fdc0",
   "metadata": {},
   "outputs": [
    {
     "data": {
      "text/plain": [
       "Titulo       170\n",
       "Categoria    170\n",
       "Resumo       170\n",
       "Status       170\n",
       "dtype: int64"
      ]
     },
     "execution_count": 12,
     "metadata": {},
     "output_type": "execute_result"
    }
   ],
   "source": [
    "erros_resumo.count()"
   ]
  },
  {
   "cell_type": "code",
   "execution_count": 13,
   "id": "09df22b3",
   "metadata": {},
   "outputs": [],
   "source": [
    "df = df[df.Resumo != 'Erro']"
   ]
  },
  {
   "cell_type": "code",
   "execution_count": 14,
   "id": "f8183bd9",
   "metadata": {},
   "outputs": [
    {
     "data": {
      "text/plain": [
       "Titulo       0\n",
       "Categoria    0\n",
       "Resumo       0\n",
       "Status       0\n",
       "dtype: int64"
      ]
     },
     "execution_count": 14,
     "metadata": {},
     "output_type": "execute_result"
    }
   ],
   "source": [
    "df.loc[df['Resumo'] == 'Erro'].count()"
   ]
  },
  {
   "cell_type": "markdown",
   "id": "5d59f564",
   "metadata": {},
   "source": [
    "### Verificando valores nulos"
   ]
  },
  {
   "cell_type": "code",
   "execution_count": 15,
   "id": "02b21d4f",
   "metadata": {},
   "outputs": [
    {
     "data": {
      "text/plain": [
       "Titulo       0\n",
       "Categoria    0\n",
       "Resumo       0\n",
       "Status       0\n",
       "dtype: int64"
      ]
     },
     "execution_count": 15,
     "metadata": {},
     "output_type": "execute_result"
    }
   ],
   "source": [
    "df.isnull().sum()"
   ]
  },
  {
   "cell_type": "markdown",
   "id": "520ced42",
   "metadata": {},
   "source": [
    "### Normalizando os dados da coluna \"status\""
   ]
  },
  {
   "cell_type": "code",
   "execution_count": 16,
   "id": "71dd645a",
   "metadata": {},
   "outputs": [
    {
     "data": {
      "text/plain": [
       "array(['Verdadeira', 'Falsa'], dtype=object)"
      ]
     },
     "execution_count": 16,
     "metadata": {},
     "output_type": "execute_result"
    }
   ],
   "source": [
    "df['Status'].unique()"
   ]
  },
  {
   "cell_type": "code",
   "execution_count": 17,
   "id": "b3d5ce80",
   "metadata": {},
   "outputs": [],
   "source": [
    "df.replace({'Verdadeira': '1'}, inplace=True)"
   ]
  },
  {
   "cell_type": "code",
   "execution_count": 18,
   "id": "111983ed",
   "metadata": {},
   "outputs": [],
   "source": [
    "df.replace({'Falsa': '0'}, inplace=True)"
   ]
  },
  {
   "cell_type": "code",
   "execution_count": 19,
   "id": "c66ab517",
   "metadata": {},
   "outputs": [
    {
     "data": {
      "text/plain": [
       "array(['1', '0'], dtype=object)"
      ]
     },
     "execution_count": 19,
     "metadata": {},
     "output_type": "execute_result"
    }
   ],
   "source": [
    "df['Status'].unique()"
   ]
  },
  {
   "cell_type": "code",
   "execution_count": 20,
   "id": "8b1547c7",
   "metadata": {},
   "outputs": [
    {
     "data": {
      "text/plain": [
       "pandas.core.frame.DataFrame"
      ]
     },
     "execution_count": 20,
     "metadata": {},
     "output_type": "execute_result"
    }
   ],
   "source": [
    "type(df)"
   ]
  },
  {
   "cell_type": "markdown",
   "id": "2f2e679c",
   "metadata": {},
   "source": [
    "### Convertendo valores\n",
    "\n",
    "Como o csv foi salvo com todos os valores object, converteremos para os tipos mais apropriados"
   ]
  },
  {
   "cell_type": "code",
   "execution_count": 21,
   "id": "292d74b1",
   "metadata": {},
   "outputs": [
    {
     "data": {
      "text/plain": [
       "Titulo       object\n",
       "Categoria    object\n",
       "Resumo       object\n",
       "Status       object\n",
       "dtype: object"
      ]
     },
     "execution_count": 21,
     "metadata": {},
     "output_type": "execute_result"
    }
   ],
   "source": [
    "df.dtypes"
   ]
  },
  {
   "cell_type": "code",
   "execution_count": 24,
   "id": "84fa8e3d",
   "metadata": {},
   "outputs": [],
   "source": [
    "df = df.astype({'Titulo':'str','Categoria':'str', 'Resumo': 'str', 'Status': 'bool'})"
   ]
  },
  {
   "cell_type": "code",
   "execution_count": 25,
   "id": "396c7d7e",
   "metadata": {},
   "outputs": [
    {
     "data": {
      "text/plain": [
       "Titulo       object\n",
       "Categoria    object\n",
       "Resumo       object\n",
       "Status         bool\n",
       "dtype: object"
      ]
     },
     "execution_count": 25,
     "metadata": {},
     "output_type": "execute_result"
    }
   ],
   "source": [
    "df.dtypes"
   ]
  },
  {
   "cell_type": "code",
   "execution_count": 26,
   "id": "b067fde8",
   "metadata": {},
   "outputs": [
    {
     "name": "stdout",
     "output_type": "stream",
     "text": [
      "<class 'str'>\n"
     ]
    }
   ],
   "source": [
    "print (type(df['Titulo'].iat[0]))"
   ]
  },
  {
   "cell_type": "code",
   "execution_count": null,
   "id": "a210ad05",
   "metadata": {},
   "outputs": [],
   "source": [
    "df.to_csv('./datasedataset.csv', index = False, encoding='utf-8') # False: not include index\n",
    "print(df)"
   ]
  }
 ],
 "metadata": {
  "kernelspec": {
   "display_name": "Python 3 (ipykernel)",
   "language": "python",
   "name": "python3"
  },
  "language_info": {
   "codemirror_mode": {
    "name": "ipython",
    "version": 3
   },
   "file_extension": ".py",
   "mimetype": "text/x-python",
   "name": "python",
   "nbconvert_exporter": "python",
   "pygments_lexer": "ipython3",
   "version": "3.8.8"
  }
 },
 "nbformat": 4,
 "nbformat_minor": 5
}
