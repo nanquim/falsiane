{
 "cells": [
  {
   "cell_type": "markdown",
   "id": "89286b62",
   "metadata": {},
   "source": [
    "## Importações"
   ]
  },
  {
   "cell_type": "code",
   "execution_count": 1,
   "id": "4dbca44d",
   "metadata": {},
   "outputs": [],
   "source": [
    "import pandas as pd"
   ]
  },
  {
   "cell_type": "markdown",
   "id": "73aa1012",
   "metadata": {},
   "source": [
    "## Criando os dataframes"
   ]
  },
  {
   "cell_type": "code",
   "execution_count": 2,
   "id": "57368687",
   "metadata": {},
   "outputs": [],
   "source": [
    "df_verdadeiras = pd.read_csv('./datasets/verdadeiras.csv')\n",
    "df_falsas = pd.read_csv('./datasets/falsas.csv')"
   ]
  },
  {
   "cell_type": "code",
   "execution_count": 3,
   "id": "7d16e512",
   "metadata": {},
   "outputs": [
    {
     "data": {
      "text/html": [
       "<div>\n",
       "<style scoped>\n",
       "    .dataframe tbody tr th:only-of-type {\n",
       "        vertical-align: middle;\n",
       "    }\n",
       "\n",
       "    .dataframe tbody tr th {\n",
       "        vertical-align: top;\n",
       "    }\n",
       "\n",
       "    .dataframe thead th {\n",
       "        text-align: right;\n",
       "    }\n",
       "</style>\n",
       "<table border=\"1\" class=\"dataframe\">\n",
       "  <thead>\n",
       "    <tr style=\"text-align: right;\">\n",
       "      <th></th>\n",
       "      <th>Titulo</th>\n",
       "      <th>Categoria</th>\n",
       "      <th>Resumo</th>\n",
       "      <th>Status</th>\n",
       "    </tr>\n",
       "  </thead>\n",
       "  <tbody>\n",
       "    <tr>\n",
       "      <th>0</th>\n",
       "      <td>Max Born, o físico quântico que alertou o mund...</td>\n",
       "      <td>ciencia</td>\n",
       "      <td>Avô de Olivia Newton-John e amigo de Einstein,...</td>\n",
       "      <td>Verdadeira</td>\n",
       "    </tr>\n",
       "    <tr>\n",
       "      <th>1</th>\n",
       "      <td>“A contenção do idoso é uma manifestação de et...</td>\n",
       "      <td>ciencia</td>\n",
       "      <td>O enfermeiro Rômulo Delvalle faz parte do Mini...</td>\n",
       "      <td>Verdadeira</td>\n",
       "    </tr>\n",
       "    <tr>\n",
       "      <th>2</th>\n",
       "      <td>Hubble flagra 'nuvens celestiais' e estrela ve...</td>\n",
       "      <td>ciencia</td>\n",
       "      <td>Nova imagem e dados científicos do telescópio ...</td>\n",
       "      <td>Verdadeira</td>\n",
       "    </tr>\n",
       "    <tr>\n",
       "      <th>3</th>\n",
       "      <td>O que é a arquitetura passiva, com casas onde ...</td>\n",
       "      <td>ciencia</td>\n",
       "      <td>O conceito surgiu com a crise do petróleo dos ...</td>\n",
       "      <td>Verdadeira</td>\n",
       "    </tr>\n",
       "    <tr>\n",
       "      <th>4</th>\n",
       "      <td>Como escovar os dentes direito? O que diz a ci...</td>\n",
       "      <td>ciencia</td>\n",
       "      <td>Escovar os dentes de maneira eficaz reduz as c...</td>\n",
       "      <td>Verdadeira</td>\n",
       "    </tr>\n",
       "  </tbody>\n",
       "</table>\n",
       "</div>"
      ],
      "text/plain": [
       "                                              Titulo Categoria  \\\n",
       "0  Max Born, o físico quântico que alertou o mund...   ciencia   \n",
       "1  “A contenção do idoso é uma manifestação de et...   ciencia   \n",
       "2  Hubble flagra 'nuvens celestiais' e estrela ve...   ciencia   \n",
       "3  O que é a arquitetura passiva, com casas onde ...   ciencia   \n",
       "4  Como escovar os dentes direito? O que diz a ci...   ciencia   \n",
       "\n",
       "                                              Resumo      Status  \n",
       "0  Avô de Olivia Newton-John e amigo de Einstein,...  Verdadeira  \n",
       "1  O enfermeiro Rômulo Delvalle faz parte do Mini...  Verdadeira  \n",
       "2  Nova imagem e dados científicos do telescópio ...  Verdadeira  \n",
       "3  O conceito surgiu com a crise do petróleo dos ...  Verdadeira  \n",
       "4  Escovar os dentes de maneira eficaz reduz as c...  Verdadeira  "
      ]
     },
     "execution_count": 3,
     "metadata": {},
     "output_type": "execute_result"
    }
   ],
   "source": [
    "df_verdadeiras.head()"
   ]
  },
  {
   "cell_type": "code",
   "execution_count": 4,
   "id": "3d32d0af",
   "metadata": {},
   "outputs": [
    {
     "data": {
      "text/html": [
       "<div>\n",
       "<style scoped>\n",
       "    .dataframe tbody tr th:only-of-type {\n",
       "        vertical-align: middle;\n",
       "    }\n",
       "\n",
       "    .dataframe tbody tr th {\n",
       "        vertical-align: top;\n",
       "    }\n",
       "\n",
       "    .dataframe thead th {\n",
       "        text-align: right;\n",
       "    }\n",
       "</style>\n",
       "<table border=\"1\" class=\"dataframe\">\n",
       "  <thead>\n",
       "    <tr style=\"text-align: right;\">\n",
       "      <th></th>\n",
       "      <th>Titulo</th>\n",
       "      <th>Categoria</th>\n",
       "      <th>Resumo</th>\n",
       "      <th>Data</th>\n",
       "      <th>Status</th>\n",
       "    </tr>\n",
       "  </thead>\n",
       "  <tbody>\n",
       "    <tr>\n",
       "      <th>0</th>\n",
       "      <td>\\nFenômeno Aphelion chega amanhã e vai trazer ...</td>\n",
       "      <td>ciencia</td>\n",
       "      <td>Terra vai ficar mais longe do Sol amanhã, por ...</td>\n",
       "      <td>25/04/2022</td>\n",
       "      <td>Falsa</td>\n",
       "    </tr>\n",
       "    <tr>\n",
       "      <th>1</th>\n",
       "      <td>\\nAsteroide 2009 JF1 vai destruir a Terra em m...</td>\n",
       "      <td>ciencia</td>\n",
       "      <td>Asteroide de 130 metros e com força de 250 mil...</td>\n",
       "      <td>13/01/2022</td>\n",
       "      <td>Falsa</td>\n",
       "    </tr>\n",
       "    <tr>\n",
       "      <th>2</th>\n",
       "      <td>\\nAranha se esconde na praia, parece obra de a...</td>\n",
       "      <td>ciencia</td>\n",
       "      <td>Aranha de espécie mortal, que parece uma obra ...</td>\n",
       "      <td>09/11/2021</td>\n",
       "      <td>Falsa</td>\n",
       "    </tr>\n",
       "    <tr>\n",
       "      <th>3</th>\n",
       "      <td>\\nHá um Vulcão em Ribeirão Preto (São Paulo) p...</td>\n",
       "      <td>ciencia</td>\n",
       "      <td>Fumaça tóxica que está saindo do solo em Ribei...</td>\n",
       "      <td>05/11/2021</td>\n",
       "      <td>Falsa</td>\n",
       "    </tr>\n",
       "    <tr>\n",
       "      <th>4</th>\n",
       "      <td>\\nPerigeu da Lua gigante entre o Canadá e Rúss...</td>\n",
       "      <td>ciencia</td>\n",
       "      <td>Vídeo mostra o fenômeno da Lua chamado Perigeu...</td>\n",
       "      <td>27/08/2021</td>\n",
       "      <td>Falsa</td>\n",
       "    </tr>\n",
       "  </tbody>\n",
       "</table>\n",
       "</div>"
      ],
      "text/plain": [
       "                                              Titulo Categoria  \\\n",
       "0  \\nFenômeno Aphelion chega amanhã e vai trazer ...   ciencia   \n",
       "1  \\nAsteroide 2009 JF1 vai destruir a Terra em m...   ciencia   \n",
       "2  \\nAranha se esconde na praia, parece obra de a...   ciencia   \n",
       "3  \\nHá um Vulcão em Ribeirão Preto (São Paulo) p...   ciencia   \n",
       "4  \\nPerigeu da Lua gigante entre o Canadá e Rúss...   ciencia   \n",
       "\n",
       "                                              Resumo        Data Status  \n",
       "0  Terra vai ficar mais longe do Sol amanhã, por ...  25/04/2022  Falsa  \n",
       "1  Asteroide de 130 metros e com força de 250 mil...  13/01/2022  Falsa  \n",
       "2  Aranha de espécie mortal, que parece uma obra ...  09/11/2021  Falsa  \n",
       "3  Fumaça tóxica que está saindo do solo em Ribei...  05/11/2021  Falsa  \n",
       "4  Vídeo mostra o fenômeno da Lua chamado Perigeu...  27/08/2021  Falsa  "
      ]
     },
     "execution_count": 4,
     "metadata": {},
     "output_type": "execute_result"
    }
   ],
   "source": [
    "df_falsas.head()"
   ]
  },
  {
   "cell_type": "markdown",
   "id": "6c94000b",
   "metadata": {},
   "source": [
    "### Deletando coluna para os dataframes ficarem iguais\n",
    "\n",
    "Devido a um erro de timeout, o algoritmo de scraping das notícias verdadeiras acabou não pegando as datas.\n",
    "Por isso, será excluído do dataset de falsas"
   ]
  },
  {
   "cell_type": "code",
   "execution_count": 5,
   "id": "01ad4abc",
   "metadata": {},
   "outputs": [
    {
     "data": {
      "text/html": [
       "<div>\n",
       "<style scoped>\n",
       "    .dataframe tbody tr th:only-of-type {\n",
       "        vertical-align: middle;\n",
       "    }\n",
       "\n",
       "    .dataframe tbody tr th {\n",
       "        vertical-align: top;\n",
       "    }\n",
       "\n",
       "    .dataframe thead th {\n",
       "        text-align: right;\n",
       "    }\n",
       "</style>\n",
       "<table border=\"1\" class=\"dataframe\">\n",
       "  <thead>\n",
       "    <tr style=\"text-align: right;\">\n",
       "      <th></th>\n",
       "      <th>Titulo</th>\n",
       "      <th>Categoria</th>\n",
       "      <th>Resumo</th>\n",
       "      <th>Status</th>\n",
       "    </tr>\n",
       "  </thead>\n",
       "  <tbody>\n",
       "    <tr>\n",
       "      <th>0</th>\n",
       "      <td>\\nFenômeno Aphelion chega amanhã e vai trazer ...</td>\n",
       "      <td>ciencia</td>\n",
       "      <td>Terra vai ficar mais longe do Sol amanhã, por ...</td>\n",
       "      <td>Falsa</td>\n",
       "    </tr>\n",
       "    <tr>\n",
       "      <th>1</th>\n",
       "      <td>\\nAsteroide 2009 JF1 vai destruir a Terra em m...</td>\n",
       "      <td>ciencia</td>\n",
       "      <td>Asteroide de 130 metros e com força de 250 mil...</td>\n",
       "      <td>Falsa</td>\n",
       "    </tr>\n",
       "    <tr>\n",
       "      <th>2</th>\n",
       "      <td>\\nAranha se esconde na praia, parece obra de a...</td>\n",
       "      <td>ciencia</td>\n",
       "      <td>Aranha de espécie mortal, que parece uma obra ...</td>\n",
       "      <td>Falsa</td>\n",
       "    </tr>\n",
       "    <tr>\n",
       "      <th>3</th>\n",
       "      <td>\\nHá um Vulcão em Ribeirão Preto (São Paulo) p...</td>\n",
       "      <td>ciencia</td>\n",
       "      <td>Fumaça tóxica que está saindo do solo em Ribei...</td>\n",
       "      <td>Falsa</td>\n",
       "    </tr>\n",
       "    <tr>\n",
       "      <th>4</th>\n",
       "      <td>\\nPerigeu da Lua gigante entre o Canadá e Rúss...</td>\n",
       "      <td>ciencia</td>\n",
       "      <td>Vídeo mostra o fenômeno da Lua chamado Perigeu...</td>\n",
       "      <td>Falsa</td>\n",
       "    </tr>\n",
       "  </tbody>\n",
       "</table>\n",
       "</div>"
      ],
      "text/plain": [
       "                                              Titulo Categoria  \\\n",
       "0  \\nFenômeno Aphelion chega amanhã e vai trazer ...   ciencia   \n",
       "1  \\nAsteroide 2009 JF1 vai destruir a Terra em m...   ciencia   \n",
       "2  \\nAranha se esconde na praia, parece obra de a...   ciencia   \n",
       "3  \\nHá um Vulcão em Ribeirão Preto (São Paulo) p...   ciencia   \n",
       "4  \\nPerigeu da Lua gigante entre o Canadá e Rúss...   ciencia   \n",
       "\n",
       "                                              Resumo Status  \n",
       "0  Terra vai ficar mais longe do Sol amanhã, por ...  Falsa  \n",
       "1  Asteroide de 130 metros e com força de 250 mil...  Falsa  \n",
       "2  Aranha de espécie mortal, que parece uma obra ...  Falsa  \n",
       "3  Fumaça tóxica que está saindo do solo em Ribei...  Falsa  \n",
       "4  Vídeo mostra o fenômeno da Lua chamado Perigeu...  Falsa  "
      ]
     },
     "execution_count": 5,
     "metadata": {},
     "output_type": "execute_result"
    }
   ],
   "source": [
    "del df_falsas['Data']\n",
    "df_falsas.head()"
   ]
  },
  {
   "cell_type": "markdown",
   "id": "a710243c",
   "metadata": {},
   "source": [
    "## Concatenando os datasets"
   ]
  },
  {
   "cell_type": "code",
   "execution_count": 6,
   "id": "c7afdb52",
   "metadata": {},
   "outputs": [],
   "source": [
    "df = df_verdadeiras.append(df_falsas)"
   ]
  },
  {
   "cell_type": "code",
   "execution_count": 7,
   "id": "ff20d181",
   "metadata": {},
   "outputs": [
    {
     "data": {
      "text/html": [
       "<div>\n",
       "<style scoped>\n",
       "    .dataframe tbody tr th:only-of-type {\n",
       "        vertical-align: middle;\n",
       "    }\n",
       "\n",
       "    .dataframe tbody tr th {\n",
       "        vertical-align: top;\n",
       "    }\n",
       "\n",
       "    .dataframe thead th {\n",
       "        text-align: right;\n",
       "    }\n",
       "</style>\n",
       "<table border=\"1\" class=\"dataframe\">\n",
       "  <thead>\n",
       "    <tr style=\"text-align: right;\">\n",
       "      <th></th>\n",
       "      <th>Titulo</th>\n",
       "      <th>Categoria</th>\n",
       "      <th>Resumo</th>\n",
       "      <th>Status</th>\n",
       "    </tr>\n",
       "  </thead>\n",
       "  <tbody>\n",
       "    <tr>\n",
       "      <th>0</th>\n",
       "      <td>Max Born, o físico quântico que alertou o mund...</td>\n",
       "      <td>ciencia</td>\n",
       "      <td>Avô de Olivia Newton-John e amigo de Einstein,...</td>\n",
       "      <td>Verdadeira</td>\n",
       "    </tr>\n",
       "    <tr>\n",
       "      <th>1</th>\n",
       "      <td>“A contenção do idoso é uma manifestação de et...</td>\n",
       "      <td>ciencia</td>\n",
       "      <td>O enfermeiro Rômulo Delvalle faz parte do Mini...</td>\n",
       "      <td>Verdadeira</td>\n",
       "    </tr>\n",
       "    <tr>\n",
       "      <th>2</th>\n",
       "      <td>Hubble flagra 'nuvens celestiais' e estrela ve...</td>\n",
       "      <td>ciencia</td>\n",
       "      <td>Nova imagem e dados científicos do telescópio ...</td>\n",
       "      <td>Verdadeira</td>\n",
       "    </tr>\n",
       "    <tr>\n",
       "      <th>3</th>\n",
       "      <td>O que é a arquitetura passiva, com casas onde ...</td>\n",
       "      <td>ciencia</td>\n",
       "      <td>O conceito surgiu com a crise do petróleo dos ...</td>\n",
       "      <td>Verdadeira</td>\n",
       "    </tr>\n",
       "    <tr>\n",
       "      <th>4</th>\n",
       "      <td>Como escovar os dentes direito? O que diz a ci...</td>\n",
       "      <td>ciencia</td>\n",
       "      <td>Escovar os dentes de maneira eficaz reduz as c...</td>\n",
       "      <td>Verdadeira</td>\n",
       "    </tr>\n",
       "  </tbody>\n",
       "</table>\n",
       "</div>"
      ],
      "text/plain": [
       "                                              Titulo Categoria  \\\n",
       "0  Max Born, o físico quântico que alertou o mund...   ciencia   \n",
       "1  “A contenção do idoso é uma manifestação de et...   ciencia   \n",
       "2  Hubble flagra 'nuvens celestiais' e estrela ve...   ciencia   \n",
       "3  O que é a arquitetura passiva, com casas onde ...   ciencia   \n",
       "4  Como escovar os dentes direito? O que diz a ci...   ciencia   \n",
       "\n",
       "                                              Resumo      Status  \n",
       "0  Avô de Olivia Newton-John e amigo de Einstein,...  Verdadeira  \n",
       "1  O enfermeiro Rômulo Delvalle faz parte do Mini...  Verdadeira  \n",
       "2  Nova imagem e dados científicos do telescópio ...  Verdadeira  \n",
       "3  O conceito surgiu com a crise do petróleo dos ...  Verdadeira  \n",
       "4  Escovar os dentes de maneira eficaz reduz as c...  Verdadeira  "
      ]
     },
     "execution_count": 7,
     "metadata": {},
     "output_type": "execute_result"
    }
   ],
   "source": [
    "df.head()"
   ]
  },
  {
   "cell_type": "code",
   "execution_count": 8,
   "id": "39c2c97a",
   "metadata": {},
   "outputs": [
    {
     "name": "stdout",
     "output_type": "stream",
     "text": [
      "<class 'pandas.core.frame.DataFrame'>\n",
      "Int64Index: 8659 entries, 0 to 3728\n",
      "Data columns (total 4 columns):\n",
      " #   Column     Non-Null Count  Dtype \n",
      "---  ------     --------------  ----- \n",
      " 0   Titulo     8659 non-null   object\n",
      " 1   Categoria  8659 non-null   object\n",
      " 2   Resumo     8659 non-null   object\n",
      " 3   Status     8659 non-null   object\n",
      "dtypes: object(4)\n",
      "memory usage: 338.2+ KB\n"
     ]
    }
   ],
   "source": [
    "df.info()"
   ]
  },
  {
   "cell_type": "code",
   "execution_count": 9,
   "id": "62078ca3",
   "metadata": {},
   "outputs": [
    {
     "data": {
      "text/html": [
       "<div>\n",
       "<style scoped>\n",
       "    .dataframe tbody tr th:only-of-type {\n",
       "        vertical-align: middle;\n",
       "    }\n",
       "\n",
       "    .dataframe tbody tr th {\n",
       "        vertical-align: top;\n",
       "    }\n",
       "\n",
       "    .dataframe thead th {\n",
       "        text-align: right;\n",
       "    }\n",
       "</style>\n",
       "<table border=\"1\" class=\"dataframe\">\n",
       "  <thead>\n",
       "    <tr style=\"text-align: right;\">\n",
       "      <th></th>\n",
       "      <th>Titulo</th>\n",
       "      <th>Categoria</th>\n",
       "      <th>Resumo</th>\n",
       "      <th>Status</th>\n",
       "    </tr>\n",
       "  </thead>\n",
       "  <tbody>\n",
       "    <tr>\n",
       "      <th>count</th>\n",
       "      <td>8659</td>\n",
       "      <td>8659</td>\n",
       "      <td>8659</td>\n",
       "      <td>8659</td>\n",
       "    </tr>\n",
       "    <tr>\n",
       "      <th>unique</th>\n",
       "      <td>8214</td>\n",
       "      <td>5</td>\n",
       "      <td>8018</td>\n",
       "      <td>2</td>\n",
       "    </tr>\n",
       "    <tr>\n",
       "      <th>top</th>\n",
       "      <td>China lança missão para concluir montagem de e...</td>\n",
       "      <td>politica</td>\n",
       "      <td>Erro</td>\n",
       "      <td>Verdadeira</td>\n",
       "    </tr>\n",
       "    <tr>\n",
       "      <th>freq</th>\n",
       "      <td>3</td>\n",
       "      <td>1990</td>\n",
       "      <td>170</td>\n",
       "      <td>4930</td>\n",
       "    </tr>\n",
       "  </tbody>\n",
       "</table>\n",
       "</div>"
      ],
      "text/plain": [
       "                                                   Titulo Categoria Resumo  \\\n",
       "count                                                8659      8659   8659   \n",
       "unique                                               8214         5   8018   \n",
       "top     China lança missão para concluir montagem de e...  politica   Erro   \n",
       "freq                                                    3      1990    170   \n",
       "\n",
       "            Status  \n",
       "count         8659  \n",
       "unique           2  \n",
       "top     Verdadeira  \n",
       "freq          4930  "
      ]
     },
     "execution_count": 9,
     "metadata": {},
     "output_type": "execute_result"
    }
   ],
   "source": [
    "df.describe()"
   ]
  },
  {
   "cell_type": "markdown",
   "id": "9175f64f",
   "metadata": {},
   "source": [
    "### Removendo linhas sem resumo\n",
    "\n",
    "Como o HTML das páginas aprensetava muitas diferenças no campo resumo, ficou inviável tratar todas as possibilidades.\n",
    "Sendo assim, optou-se por incluir as linhas com mensagem de erro. Como é um quantidade pequena e o resumo é primordial\n",
    "para a nossa análise, essas linhas com erro serão excluídas."
   ]
  },
  {
   "cell_type": "code",
   "execution_count": 10,
   "id": "04541061",
   "metadata": {},
   "outputs": [],
   "source": [
    "erros_resumo = df.loc[df['Resumo'] == 'Erro']"
   ]
  },
  {
   "cell_type": "code",
   "execution_count": 11,
   "id": "71c65174",
   "metadata": {},
   "outputs": [
    {
     "data": {
      "text/html": [
       "<div>\n",
       "<style scoped>\n",
       "    .dataframe tbody tr th:only-of-type {\n",
       "        vertical-align: middle;\n",
       "    }\n",
       "\n",
       "    .dataframe tbody tr th {\n",
       "        vertical-align: top;\n",
       "    }\n",
       "\n",
       "    .dataframe thead th {\n",
       "        text-align: right;\n",
       "    }\n",
       "</style>\n",
       "<table border=\"1\" class=\"dataframe\">\n",
       "  <thead>\n",
       "    <tr style=\"text-align: right;\">\n",
       "      <th></th>\n",
       "      <th>Titulo</th>\n",
       "      <th>Categoria</th>\n",
       "      <th>Resumo</th>\n",
       "      <th>Status</th>\n",
       "    </tr>\n",
       "  </thead>\n",
       "  <tbody>\n",
       "    <tr>\n",
       "      <th>74</th>\n",
       "      <td>Viagem à Lua: minuto a minuto</td>\n",
       "      <td>ciencia</td>\n",
       "      <td>Erro</td>\n",
       "      <td>Verdadeira</td>\n",
       "    </tr>\n",
       "    <tr>\n",
       "      <th>85</th>\n",
       "      <td>Entenda por que mosquitos picam mais algumas p...</td>\n",
       "      <td>ciencia</td>\n",
       "      <td>Erro</td>\n",
       "      <td>Verdadeira</td>\n",
       "    </tr>\n",
       "    <tr>\n",
       "      <th>91</th>\n",
       "      <td>James Webb: o que revelam as fotos do supertel...</td>\n",
       "      <td>ciencia</td>\n",
       "      <td>Erro</td>\n",
       "      <td>Verdadeira</td>\n",
       "    </tr>\n",
       "    <tr>\n",
       "      <th>135</th>\n",
       "      <td>Sua cor preferida é o azul? A ciência pode exp...</td>\n",
       "      <td>ciencia</td>\n",
       "      <td>Erro</td>\n",
       "      <td>Verdadeira</td>\n",
       "    </tr>\n",
       "    <tr>\n",
       "      <th>142</th>\n",
       "      <td>Kemune: a cidade de 3,4 mil anos que reaparece...</td>\n",
       "      <td>ciencia</td>\n",
       "      <td>Erro</td>\n",
       "      <td>Verdadeira</td>\n",
       "    </tr>\n",
       "    <tr>\n",
       "      <th>...</th>\n",
       "      <td>...</td>\n",
       "      <td>...</td>\n",
       "      <td>...</td>\n",
       "      <td>...</td>\n",
       "    </tr>\n",
       "    <tr>\n",
       "      <th>4244</th>\n",
       "      <td>Você sabe a maneira correta para higienizar se...</td>\n",
       "      <td>tecnologia</td>\n",
       "      <td>Erro</td>\n",
       "      <td>Verdadeira</td>\n",
       "    </tr>\n",
       "    <tr>\n",
       "      <th>4324</th>\n",
       "      <td>Veja como proteger acesso a apps de bancos</td>\n",
       "      <td>tecnologia</td>\n",
       "      <td>Erro</td>\n",
       "      <td>Verdadeira</td>\n",
       "    </tr>\n",
       "    <tr>\n",
       "      <th>4358</th>\n",
       "      <td>Veja dicas para não cair em golpes ao reservar...</td>\n",
       "      <td>tecnologia</td>\n",
       "      <td>Erro</td>\n",
       "      <td>Verdadeira</td>\n",
       "    </tr>\n",
       "    <tr>\n",
       "      <th>4413</th>\n",
       "      <td>O que pode mudar no Twitter com a compra por E...</td>\n",
       "      <td>tecnologia</td>\n",
       "      <td>Erro</td>\n",
       "      <td>Verdadeira</td>\n",
       "    </tr>\n",
       "    <tr>\n",
       "      <th>4709</th>\n",
       "      <td>A guerra cibernética paralela entre Rússia e U...</td>\n",
       "      <td>tecnologia</td>\n",
       "      <td>Erro</td>\n",
       "      <td>Verdadeira</td>\n",
       "    </tr>\n",
       "  </tbody>\n",
       "</table>\n",
       "<p>170 rows × 4 columns</p>\n",
       "</div>"
      ],
      "text/plain": [
       "                                                 Titulo   Categoria Resumo  \\\n",
       "74                        Viagem à Lua: minuto a minuto     ciencia   Erro   \n",
       "85    Entenda por que mosquitos picam mais algumas p...     ciencia   Erro   \n",
       "91    James Webb: o que revelam as fotos do supertel...     ciencia   Erro   \n",
       "135   Sua cor preferida é o azul? A ciência pode exp...     ciencia   Erro   \n",
       "142   Kemune: a cidade de 3,4 mil anos que reaparece...     ciencia   Erro   \n",
       "...                                                 ...         ...    ...   \n",
       "4244  Você sabe a maneira correta para higienizar se...  tecnologia   Erro   \n",
       "4324         Veja como proteger acesso a apps de bancos  tecnologia   Erro   \n",
       "4358  Veja dicas para não cair em golpes ao reservar...  tecnologia   Erro   \n",
       "4413  O que pode mudar no Twitter com a compra por E...  tecnologia   Erro   \n",
       "4709  A guerra cibernética paralela entre Rússia e U...  tecnologia   Erro   \n",
       "\n",
       "          Status  \n",
       "74    Verdadeira  \n",
       "85    Verdadeira  \n",
       "91    Verdadeira  \n",
       "135   Verdadeira  \n",
       "142   Verdadeira  \n",
       "...          ...  \n",
       "4244  Verdadeira  \n",
       "4324  Verdadeira  \n",
       "4358  Verdadeira  \n",
       "4413  Verdadeira  \n",
       "4709  Verdadeira  \n",
       "\n",
       "[170 rows x 4 columns]"
      ]
     },
     "execution_count": 11,
     "metadata": {},
     "output_type": "execute_result"
    }
   ],
   "source": [
    "erros_resumo"
   ]
  },
  {
   "cell_type": "code",
   "execution_count": 12,
   "id": "91f9769f",
   "metadata": {},
   "outputs": [
    {
     "data": {
      "text/plain": [
       "Titulo       170\n",
       "Categoria    170\n",
       "Resumo       170\n",
       "Status       170\n",
       "dtype: int64"
      ]
     },
     "execution_count": 12,
     "metadata": {},
     "output_type": "execute_result"
    }
   ],
   "source": [
    "erros_resumo.count()"
   ]
  },
  {
   "cell_type": "code",
   "execution_count": 13,
   "id": "277116d0",
   "metadata": {},
   "outputs": [],
   "source": [
    "df = df[df.Resumo != 'Erro']"
   ]
  },
  {
   "cell_type": "code",
   "execution_count": 14,
   "id": "0e0a92f4",
   "metadata": {},
   "outputs": [
    {
     "data": {
      "text/plain": [
       "Titulo       0\n",
       "Categoria    0\n",
       "Resumo       0\n",
       "Status       0\n",
       "dtype: int64"
      ]
     },
     "execution_count": 14,
     "metadata": {},
     "output_type": "execute_result"
    }
   ],
   "source": [
    "df.loc[df['Resumo'] == 'Erro'].count()"
   ]
  },
  {
   "cell_type": "markdown",
   "id": "5aedc016",
   "metadata": {},
   "source": [
    "### Verificando valores nulos"
   ]
  },
  {
   "cell_type": "code",
   "execution_count": 15,
   "id": "fb9b61f8",
   "metadata": {},
   "outputs": [
    {
     "data": {
      "text/plain": [
       "Titulo       0\n",
       "Categoria    0\n",
       "Resumo       0\n",
       "Status       0\n",
       "dtype: int64"
      ]
     },
     "execution_count": 15,
     "metadata": {},
     "output_type": "execute_result"
    }
   ],
   "source": [
    "df.isnull().sum()"
   ]
  },
  {
   "cell_type": "markdown",
   "id": "3de535dd",
   "metadata": {},
   "source": [
    "### Normalizando os dados da coluna \"status\""
   ]
  },
  {
   "cell_type": "code",
   "execution_count": 16,
   "id": "38dec26d",
   "metadata": {},
   "outputs": [
    {
     "data": {
      "text/plain": [
       "array(['Verdadeira', 'Falsa'], dtype=object)"
      ]
     },
     "execution_count": 16,
     "metadata": {},
     "output_type": "execute_result"
    }
   ],
   "source": [
    "df['Status'].unique()"
   ]
  },
  {
   "cell_type": "code",
   "execution_count": 17,
   "id": "255e9cc7",
   "metadata": {},
   "outputs": [],
   "source": [
    "df.replace({'Verdadeira': '1'}, inplace=True)"
   ]
  },
  {
   "cell_type": "code",
   "execution_count": 18,
   "id": "a8d61985",
   "metadata": {},
   "outputs": [],
   "source": [
    "df.replace({'Falsa': '0'}, inplace=True)"
   ]
  },
  {
   "cell_type": "code",
   "execution_count": 19,
   "id": "f0dcdcc0",
   "metadata": {},
   "outputs": [
    {
     "data": {
      "text/plain": [
       "array(['1', '0'], dtype=object)"
      ]
     },
     "execution_count": 19,
     "metadata": {},
     "output_type": "execute_result"
    }
   ],
   "source": [
    "df['Status'].unique()"
   ]
  },
  {
   "cell_type": "code",
   "execution_count": 20,
   "id": "01e04f59",
   "metadata": {},
   "outputs": [
    {
     "data": {
      "text/plain": [
       "pandas.core.frame.DataFrame"
      ]
     },
     "execution_count": 20,
     "metadata": {},
     "output_type": "execute_result"
    }
   ],
   "source": [
    "type(df)"
   ]
  },
  {
   "cell_type": "markdown",
   "id": "c5417011",
   "metadata": {},
   "source": [
    "### Removendo palavras indicativas do status\n",
    "\n",
    "Apesar do tratamento dado a essas palavras no algoritmo de scraping, alguns registros permanecem com elas, provavelmente devido a diferenças no HTML de algumas páginas."
   ]
  },
  {
   "cell_type": "code",
   "execution_count": 21,
   "id": "4ab50477",
   "metadata": {},
   "outputs": [],
   "source": [
    "boatos = df[df['Resumo'].str.contains(r'boato(?!$)')]"
   ]
  },
  {
   "cell_type": "code",
   "execution_count": 22,
   "id": "00ce8409",
   "metadata": {},
   "outputs": [
    {
     "data": {
      "text/html": [
       "<div>\n",
       "<style scoped>\n",
       "    .dataframe tbody tr th:only-of-type {\n",
       "        vertical-align: middle;\n",
       "    }\n",
       "\n",
       "    .dataframe tbody tr th {\n",
       "        vertical-align: top;\n",
       "    }\n",
       "\n",
       "    .dataframe thead th {\n",
       "        text-align: right;\n",
       "    }\n",
       "</style>\n",
       "<table border=\"1\" class=\"dataframe\">\n",
       "  <thead>\n",
       "    <tr style=\"text-align: right;\">\n",
       "      <th></th>\n",
       "      <th>Titulo</th>\n",
       "      <th>Categoria</th>\n",
       "      <th>Resumo</th>\n",
       "      <th>Status</th>\n",
       "    </tr>\n",
       "  </thead>\n",
       "  <tbody>\n",
       "    <tr>\n",
       "      <th>166</th>\n",
       "      <td>Ratanabá: arqueólogo explica por que lenda de ...</td>\n",
       "      <td>ciencia</td>\n",
       "      <td>Nos últimos dias, suposta revelação de civiliz...</td>\n",
       "      <td>1</td>\n",
       "    </tr>\n",
       "    <tr>\n",
       "      <th>1060</th>\n",
       "      <td>Documentos sobre armas nucleares estariam entr...</td>\n",
       "      <td>mundo</td>\n",
       "      <td>Washington Post diz que conversou com pessoas ...</td>\n",
       "      <td>1</td>\n",
       "    </tr>\n",
       "    <tr>\n",
       "      <th>1738</th>\n",
       "      <td>Putin: não há evidências de que presidente rus...</td>\n",
       "      <td>mundo</td>\n",
       "      <td>William Burns, diretor da agência, disse que n...</td>\n",
       "      <td>1</td>\n",
       "    </tr>\n",
       "    <tr>\n",
       "      <th>111</th>\n",
       "      <td>\\n7 s sobre fim do mundo que viralizaram recen...</td>\n",
       "      <td>ciencia</td>\n",
       "      <td>Como se pode perceber o mundo não acabou de no...</td>\n",
       "      <td>0</td>\n",
       "    </tr>\n",
       "    <tr>\n",
       "      <th>742</th>\n",
       "      <td>\\n7 s (e uma verdade) sobre a Alemanha que já ...</td>\n",
       "      <td>mundo</td>\n",
       "      <td>Confira sete boatos (e uma dura verdade) sobre...</td>\n",
       "      <td>0</td>\n",
       "    </tr>\n",
       "    <tr>\n",
       "      <th>783</th>\n",
       "      <td>\\nTAP Portugal está dando bilhetes aéreos grát...</td>\n",
       "      <td>mundo</td>\n",
       "      <td>TAP Portugal está oferecendo gratuitamente 2 b...</td>\n",
       "      <td>0</td>\n",
       "    </tr>\n",
       "    <tr>\n",
       "      <th>823</th>\n",
       "      <td>\\nPresidente da Croácia de biquíni na praia</td>\n",
       "      <td>mundo</td>\n",
       "      <td>Imagem mostra presidente da Croácia, Kolinda G...</td>\n",
       "      <td>0</td>\n",
       "    </tr>\n",
       "    <tr>\n",
       "      <th>1440</th>\n",
       "      <td>\\n41 fake news desmentidas e um balanço da des...</td>\n",
       "      <td>politica</td>\n",
       "      <td>O Boatos.org encerra a cobertura das eleições ...</td>\n",
       "      <td>0</td>\n",
       "    </tr>\n",
       "    <tr>\n",
       "      <th>1769</th>\n",
       "      <td>\\n21 fake news que circularam na web após Lula...</td>\n",
       "      <td>politica</td>\n",
       "      <td>Decisão do STF sobre prisão em segunda instânc...</td>\n",
       "      <td>0</td>\n",
       "    </tr>\n",
       "    <tr>\n",
       "      <th>2589</th>\n",
       "      <td>\\n[Erramos] Caso da cerveja em BH</td>\n",
       "      <td>saude</td>\n",
       "      <td>Atualização em 11/01/2020: Com a confirmação, ...</td>\n",
       "      <td>0</td>\n",
       "    </tr>\n",
       "    <tr>\n",
       "      <th>2593</th>\n",
       "      <td>\\n11 fake news com ordens absurdas para evitar...</td>\n",
       "      <td>saude</td>\n",
       "      <td>Um dos tipos de boatos que achamos mais proble...</td>\n",
       "      <td>0</td>\n",
       "    </tr>\n",
       "    <tr>\n",
       "      <th>2708</th>\n",
       "      <td>\\n7 s sobre a febre amarela que sempre enganam...</td>\n",
       "      <td>saude</td>\n",
       "      <td>A vacina da febre amarela tem causado muita di...</td>\n",
       "      <td>0</td>\n",
       "    </tr>\n",
       "    <tr>\n",
       "      <th>2755</th>\n",
       "      <td>\\n15 perguntas e respostas sobre o jogo da Bal...</td>\n",
       "      <td>saude</td>\n",
       "      <td>Em meio a boatos e exageros, selecionamos tudo...</td>\n",
       "      <td>0</td>\n",
       "    </tr>\n",
       "    <tr>\n",
       "      <th>2765</th>\n",
       "      <td>\\n7 s relacionados ao consumo de carne, peixe ...</td>\n",
       "      <td>saude</td>\n",
       "      <td>Enquanto as divergências entre quem come carne...</td>\n",
       "      <td>0</td>\n",
       "    </tr>\n",
       "    <tr>\n",
       "      <th>2816</th>\n",
       "      <td>\\n7 s sobre Zika, dengue, microcefalia e aedes...</td>\n",
       "      <td>saude</td>\n",
       "      <td>O assunto Zika vírus tem gerado diversas dúvid...</td>\n",
       "      <td>0</td>\n",
       "    </tr>\n",
       "    <tr>\n",
       "      <th>2842</th>\n",
       "      <td>\\nFique ligado: 7 mitos sobre câncer que sempr...</td>\n",
       "      <td>saude</td>\n",
       "      <td>Um dos piores tipos de boatos que existem são ...</td>\n",
       "      <td>0</td>\n",
       "    </tr>\n",
       "    <tr>\n",
       "      <th>2926</th>\n",
       "      <td>\\nMamografia pode causar câncer na tireoide</td>\n",
       "      <td>saude</td>\n",
       "      <td>Se você quer saber sobre o boato de Dráuzio Va...</td>\n",
       "      <td>0</td>\n",
       "    </tr>\n",
       "    <tr>\n",
       "      <th>3457</th>\n",
       "      <td>\\nVídeo do papa dançando samba é um vírus e de...</td>\n",
       "      <td>tecnologia</td>\n",
       "      <td>Confira a versão 2020 do desmentido sobre o bo...</td>\n",
       "      <td>0</td>\n",
       "    </tr>\n",
       "    <tr>\n",
       "      <th>3513</th>\n",
       "      <td>\\nBebê com câncer no sangue vai ganhar R$1 por...</td>\n",
       "      <td>tecnologia</td>\n",
       "      <td>Atenção! Todos os meses aparecem boatos iguais...</td>\n",
       "      <td>0</td>\n",
       "    </tr>\n",
       "    <tr>\n",
       "      <th>3544</th>\n",
       "      <td>\\nO Boticário está dando lápis delineador Make...</td>\n",
       "      <td>tecnologia</td>\n",
       "      <td>O Boticário está fazendo uma grande divulgação...</td>\n",
       "      <td>0</td>\n",
       "    </tr>\n",
       "    <tr>\n",
       "      <th>3549</th>\n",
       "      <td>\\nO Boticário está dando vale-presente grátis ...</td>\n",
       "      <td>tecnologia</td>\n",
       "      <td>O Boticário está dando vale-presente gratuitam...</td>\n",
       "      <td>0</td>\n",
       "    </tr>\n",
       "    <tr>\n",
       "      <th>3563</th>\n",
       "      <td>\\nO Boticário dá vale presente de R$ 399 para ...</td>\n",
       "      <td>tecnologia</td>\n",
       "      <td>Nota do Boatos.org: vimos outras versões do me...</td>\n",
       "      <td>0</td>\n",
       "    </tr>\n",
       "    <tr>\n",
       "      <th>3603</th>\n",
       "      <td>\\n7 s que surgiram em áudios no WhatsApp e eng...</td>\n",
       "      <td>tecnologia</td>\n",
       "      <td>Depois de se tornar um dos aplicativos de mens...</td>\n",
       "      <td>0</td>\n",
       "    </tr>\n",
       "    <tr>\n",
       "      <th>3621</th>\n",
       "      <td>\\n7 s sobre o Facebook que sempre circulam na ...</td>\n",
       "      <td>tecnologia</td>\n",
       "      <td>Apesar de ser um dos canais que mais divulga m...</td>\n",
       "      <td>0</td>\n",
       "    </tr>\n",
       "    <tr>\n",
       "      <th>3659</th>\n",
       "      <td>\\nAlerta falso: não atenda ligações do (84) 91...</td>\n",
       "      <td>tecnologia</td>\n",
       "      <td>Em 2018, voltamos a desmentir a história. Conf...</td>\n",
       "      <td>0</td>\n",
       "    </tr>\n",
       "    <tr>\n",
       "      <th>3700</th>\n",
       "      <td>\\nWhatsApp Plus é um vírus que danifica celular</td>\n",
       "      <td>tecnologia</td>\n",
       "      <td>App WhatsApp Plus é um vírus que danifica o ce...</td>\n",
       "      <td>0</td>\n",
       "    </tr>\n",
       "    <tr>\n",
       "      <th>3728</th>\n",
       "      <td>\\nBoato – Facebook vai cobrar taxa de $5,99 do...</td>\n",
       "      <td>tecnologia</td>\n",
       "      <td>Um dos formatos mais clássicos (e que mais peg...</td>\n",
       "      <td>0</td>\n",
       "    </tr>\n",
       "  </tbody>\n",
       "</table>\n",
       "</div>"
      ],
      "text/plain": [
       "                                                 Titulo   Categoria  \\\n",
       "166   Ratanabá: arqueólogo explica por que lenda de ...     ciencia   \n",
       "1060  Documentos sobre armas nucleares estariam entr...       mundo   \n",
       "1738  Putin: não há evidências de que presidente rus...       mundo   \n",
       "111   \\n7 s sobre fim do mundo que viralizaram recen...     ciencia   \n",
       "742   \\n7 s (e uma verdade) sobre a Alemanha que já ...       mundo   \n",
       "783   \\nTAP Portugal está dando bilhetes aéreos grát...       mundo   \n",
       "823       \\nPresidente da Croácia de biquíni na praia         mundo   \n",
       "1440  \\n41 fake news desmentidas e um balanço da des...    politica   \n",
       "1769  \\n21 fake news que circularam na web após Lula...    politica   \n",
       "2589                 \\n[Erramos] Caso da cerveja em BH        saude   \n",
       "2593  \\n11 fake news com ordens absurdas para evitar...       saude   \n",
       "2708  \\n7 s sobre a febre amarela que sempre enganam...       saude   \n",
       "2755  \\n15 perguntas e respostas sobre o jogo da Bal...       saude   \n",
       "2765  \\n7 s relacionados ao consumo de carne, peixe ...       saude   \n",
       "2816  \\n7 s sobre Zika, dengue, microcefalia e aedes...       saude   \n",
       "2842  \\nFique ligado: 7 mitos sobre câncer que sempr...       saude   \n",
       "2926      \\nMamografia pode causar câncer na tireoide         saude   \n",
       "3457  \\nVídeo do papa dançando samba é um vírus e de...  tecnologia   \n",
       "3513  \\nBebê com câncer no sangue vai ganhar R$1 por...  tecnologia   \n",
       "3544  \\nO Boticário está dando lápis delineador Make...  tecnologia   \n",
       "3549  \\nO Boticário está dando vale-presente grátis ...  tecnologia   \n",
       "3563  \\nO Boticário dá vale presente de R$ 399 para ...  tecnologia   \n",
       "3603  \\n7 s que surgiram em áudios no WhatsApp e eng...  tecnologia   \n",
       "3621  \\n7 s sobre o Facebook que sempre circulam na ...  tecnologia   \n",
       "3659  \\nAlerta falso: não atenda ligações do (84) 91...  tecnologia   \n",
       "3700  \\nWhatsApp Plus é um vírus que danifica celular    tecnologia   \n",
       "3728  \\nBoato – Facebook vai cobrar taxa de $5,99 do...  tecnologia   \n",
       "\n",
       "                                                 Resumo Status  \n",
       "166   Nos últimos dias, suposta revelação de civiliz...      1  \n",
       "1060  Washington Post diz que conversou com pessoas ...      1  \n",
       "1738  William Burns, diretor da agência, disse que n...      1  \n",
       "111   Como se pode perceber o mundo não acabou de no...      0  \n",
       "742   Confira sete boatos (e uma dura verdade) sobre...      0  \n",
       "783   TAP Portugal está oferecendo gratuitamente 2 b...      0  \n",
       "823   Imagem mostra presidente da Croácia, Kolinda G...      0  \n",
       "1440  O Boatos.org encerra a cobertura das eleições ...      0  \n",
       "1769  Decisão do STF sobre prisão em segunda instânc...      0  \n",
       "2589  Atualização em 11/01/2020: Com a confirmação, ...      0  \n",
       "2593  Um dos tipos de boatos que achamos mais proble...      0  \n",
       "2708  A vacina da febre amarela tem causado muita di...      0  \n",
       "2755  Em meio a boatos e exageros, selecionamos tudo...      0  \n",
       "2765  Enquanto as divergências entre quem come carne...      0  \n",
       "2816  O assunto Zika vírus tem gerado diversas dúvid...      0  \n",
       "2842  Um dos piores tipos de boatos que existem são ...      0  \n",
       "2926  Se você quer saber sobre o boato de Dráuzio Va...      0  \n",
       "3457  Confira a versão 2020 do desmentido sobre o bo...      0  \n",
       "3513  Atenção! Todos os meses aparecem boatos iguais...      0  \n",
       "3544  O Boticário está fazendo uma grande divulgação...      0  \n",
       "3549  O Boticário está dando vale-presente gratuitam...      0  \n",
       "3563  Nota do Boatos.org: vimos outras versões do me...      0  \n",
       "3603  Depois de se tornar um dos aplicativos de mens...      0  \n",
       "3621  Apesar de ser um dos canais que mais divulga m...      0  \n",
       "3659  Em 2018, voltamos a desmentir a história. Conf...      0  \n",
       "3700  App WhatsApp Plus é um vírus que danifica o ce...      0  \n",
       "3728  Um dos formatos mais clássicos (e que mais peg...      0  "
      ]
     },
     "execution_count": 22,
     "metadata": {},
     "output_type": "execute_result"
    }
   ],
   "source": [
    "boatos.head(27)"
   ]
  },
  {
   "cell_type": "code",
   "execution_count": 23,
   "id": "d3da1648",
   "metadata": {},
   "outputs": [
    {
     "data": {
      "text/plain": [
       "Titulo       27\n",
       "Categoria    27\n",
       "Resumo       27\n",
       "Status       27\n",
       "dtype: int64"
      ]
     },
     "execution_count": 23,
     "metadata": {},
     "output_type": "execute_result"
    }
   ],
   "source": [
    "boatos.count()"
   ]
  },
  {
   "cell_type": "code",
   "execution_count": 24,
   "id": "ae592485",
   "metadata": {},
   "outputs": [
    {
     "data": {
      "text/plain": [
       "Titulo       0\n",
       "Categoria    0\n",
       "Resumo       0\n",
       "Status       0\n",
       "dtype: int64"
      ]
     },
     "execution_count": 24,
     "metadata": {},
     "output_type": "execute_result"
    }
   ],
   "source": [
    "df[df['Resumo'].str.contains(r'hoax(?!$)')].count()"
   ]
  },
  {
   "cell_type": "code",
   "execution_count": 25,
   "id": "dd5e15da",
   "metadata": {},
   "outputs": [],
   "source": [
    "fake = df[df['Resumo'].str.contains(r'fake(?!$)')]"
   ]
  },
  {
   "cell_type": "code",
   "execution_count": 26,
   "id": "8a3d2101",
   "metadata": {},
   "outputs": [
    {
     "data": {
      "text/plain": [
       "Titulo       32\n",
       "Categoria    32\n",
       "Resumo       32\n",
       "Status       32\n",
       "dtype: int64"
      ]
     },
     "execution_count": 26,
     "metadata": {},
     "output_type": "execute_result"
    }
   ],
   "source": [
    "fake.count()"
   ]
  },
  {
   "cell_type": "code",
   "execution_count": 27,
   "id": "6d3a4daf",
   "metadata": {},
   "outputs": [
    {
     "data": {
      "text/html": [
       "<div>\n",
       "<style scoped>\n",
       "    .dataframe tbody tr th:only-of-type {\n",
       "        vertical-align: middle;\n",
       "    }\n",
       "\n",
       "    .dataframe tbody tr th {\n",
       "        vertical-align: top;\n",
       "    }\n",
       "\n",
       "    .dataframe thead th {\n",
       "        text-align: right;\n",
       "    }\n",
       "</style>\n",
       "<table border=\"1\" class=\"dataframe\">\n",
       "  <thead>\n",
       "    <tr style=\"text-align: right;\">\n",
       "      <th></th>\n",
       "      <th>Titulo</th>\n",
       "      <th>Categoria</th>\n",
       "      <th>Resumo</th>\n",
       "      <th>Status</th>\n",
       "    </tr>\n",
       "  </thead>\n",
       "  <tbody>\n",
       "    <tr>\n",
       "      <th>750</th>\n",
       "      <td>Ela ignorou o médico, mentiu para a família e ...</td>\n",
       "      <td>ciencia</td>\n",
       "      <td>Adriana Avancini conta que a mãe, Maria das Gr...</td>\n",
       "      <td>1</td>\n",
       "    </tr>\n",
       "    <tr>\n",
       "      <th>752</th>\n",
       "      <td>Ele ignora pedido do filho para usar máscara e...</td>\n",
       "      <td>ciencia</td>\n",
       "      <td>Série do g1 mostra vítimas das fake news disse...</td>\n",
       "      <td>1</td>\n",
       "    </tr>\n",
       "    <tr>\n",
       "      <th>755</th>\n",
       "      <td>Vítimas do negacionismo: as mortes causadas pe...</td>\n",
       "      <td>ciencia</td>\n",
       "      <td>Série do g1 mostra vítimas das fake news disse...</td>\n",
       "      <td>1</td>\n",
       "    </tr>\n",
       "    <tr>\n",
       "      <th>782</th>\n",
       "      <td>Ele deixou de ir ao hospital por acreditar em ...</td>\n",
       "      <td>ciencia</td>\n",
       "      <td>Luíz Carlos Guglieri, de 76 anos, fazia uso de...</td>\n",
       "      <td>1</td>\n",
       "    </tr>\n",
       "    <tr>\n",
       "      <th>911</th>\n",
       "      <td>Conselho Nacional de Saúde recomenda que minis...</td>\n",
       "      <td>ciencia</td>\n",
       "      <td>Marcelo Queiroga restringiu a aplicação de dos...</td>\n",
       "      <td>1</td>\n",
       "    </tr>\n",
       "    <tr>\n",
       "      <th>916</th>\n",
       "      <td>Drauzio Varella diz que decisão de Queiroga so...</td>\n",
       "      <td>ciencia</td>\n",
       "      <td>Nesta quinta-feira, ministro restringiu vacina...</td>\n",
       "      <td>1</td>\n",
       "    </tr>\n",
       "    <tr>\n",
       "      <th>2015</th>\n",
       "      <td>Ministério da Defesa pede ao TSE que inclua ma...</td>\n",
       "      <td>politica</td>\n",
       "      <td>Código-fonte está disponível desde outubro de ...</td>\n",
       "      <td>1</td>\n",
       "    </tr>\n",
       "    <tr>\n",
       "      <th>2027</th>\n",
       "      <td>Exército diz que não indicará novo membro para...</td>\n",
       "      <td>politica</td>\n",
       "      <td>Na segunda, TSE descredenciou militar que publ...</td>\n",
       "      <td>1</td>\n",
       "    </tr>\n",
       "    <tr>\n",
       "      <th>2279</th>\n",
       "      <td>PP de Ciro Nogueira entra na Justiça no Piauí ...</td>\n",
       "      <td>politica</td>\n",
       "      <td>Diretório do partido no Piauí apontou fake new...</td>\n",
       "      <td>1</td>\n",
       "    </tr>\n",
       "    <tr>\n",
       "      <th>2526</th>\n",
       "      <td>Moraes manda tirar do ar postagens de bolsonar...</td>\n",
       "      <td>politica</td>\n",
       "      <td>Ministro atendeu a pedido do PT; decisão vale ...</td>\n",
       "      <td>1</td>\n",
       "    </tr>\n",
       "    <tr>\n",
       "      <th>4303</th>\n",
       "      <td>Contas falsas e spam: entenda o problema que f...</td>\n",
       "      <td>tecnologia</td>\n",
       "      <td>Rede social afirma que menos de 5% de sua base...</td>\n",
       "      <td>1</td>\n",
       "    </tr>\n",
       "    <tr>\n",
       "      <th>4314</th>\n",
       "      <td>Empresa que controla Facebook, Instagram e Wha...</td>\n",
       "      <td>tecnologia</td>\n",
       "      <td>Segundo a Meta, objetivo é combater fake news;...</td>\n",
       "      <td>1</td>\n",
       "    </tr>\n",
       "    <tr>\n",
       "      <th>4487</th>\n",
       "      <td>Pesquisadores identificam mais de mil perfis f...</td>\n",
       "      <td>tecnologia</td>\n",
       "      <td>Usuários fake disparavam mensagens de oferta d...</td>\n",
       "      <td>1</td>\n",
       "    </tr>\n",
       "    <tr>\n",
       "      <th>4505</th>\n",
       "      <td>A evolução do deepfake, futuro da criação de c...</td>\n",
       "      <td>tecnologia</td>\n",
       "      <td>Os chamados 'deepfakes', ou vídeos gerados por...</td>\n",
       "      <td>1</td>\n",
       "    </tr>\n",
       "    <tr>\n",
       "      <th>4617</th>\n",
       "      <td>Facebook remove vídeo falso de rendição do pre...</td>\n",
       "      <td>tecnologia</td>\n",
       "      <td>No deepfake, Volodymyr Zelensky pede que os uc...</td>\n",
       "      <td>1</td>\n",
       "    </tr>\n",
       "    <tr>\n",
       "      <th>4718</th>\n",
       "      <td>Meta derruba rede de contas falsas que divulga...</td>\n",
       "      <td>tecnologia</td>\n",
       "      <td>Perfis usavam sites de fake news em campanha p...</td>\n",
       "      <td>1</td>\n",
       "    </tr>\n",
       "    <tr>\n",
       "      <th>4727</th>\n",
       "      <td>Telegram pode ser bloqueado por 48h no Brasil:...</td>\n",
       "      <td>tecnologia</td>\n",
       "      <td>Ministro do STF determinou suspensão caso o ap...</td>\n",
       "      <td>1</td>\n",
       "    </tr>\n",
       "    <tr>\n",
       "      <th>4734</th>\n",
       "      <td>Rússia ataca Ucrânia também no front cibernético</td>\n",
       "      <td>tecnologia</td>\n",
       "      <td>Sites do governo e bancos ucranianos foram ati...</td>\n",
       "      <td>1</td>\n",
       "    </tr>\n",
       "    <tr>\n",
       "      <th>4797</th>\n",
       "      <td>'Fui enganada e me apaixonei por um deepfake n...</td>\n",
       "      <td>tecnologia</td>\n",
       "      <td>Yzabel foi enganada, com uso de tecnologia 'de...</td>\n",
       "      <td>1</td>\n",
       "    </tr>\n",
       "    <tr>\n",
       "      <th>4803</th>\n",
       "      <td>Após bloqueio do STF, Allan dos Santos ataca A...</td>\n",
       "      <td>tecnologia</td>\n",
       "      <td>Em outubro, ministro do STF determinou bloquei...</td>\n",
       "      <td>1</td>\n",
       "    </tr>\n",
       "    <tr>\n",
       "      <th>4927</th>\n",
       "      <td>Conta de Luciano Hang, da Havan, aparece como ...</td>\n",
       "      <td>tecnologia</td>\n",
       "      <td>O empresário já teve um perfil suspenso em 202...</td>\n",
       "      <td>1</td>\n",
       "    </tr>\n",
       "    <tr>\n",
       "      <th>718</th>\n",
       "      <td>\\n7 s sobre a guerra da Síria que sempre circu...</td>\n",
       "      <td>mundo</td>\n",
       "      <td>Crianças, religião e até estrelas do futebol f...</td>\n",
       "      <td>0</td>\n",
       "    </tr>\n",
       "    <tr>\n",
       "      <th>1440</th>\n",
       "      <td>\\n41 fake news desmentidas e um balanço da des...</td>\n",
       "      <td>politica</td>\n",
       "      <td>O Boatos.org encerra a cobertura das eleições ...</td>\n",
       "      <td>0</td>\n",
       "    </tr>\n",
       "    <tr>\n",
       "      <th>1458</th>\n",
       "      <td>\\n20 fake news sobre as eleições de 2020 que v...</td>\n",
       "      <td>politica</td>\n",
       "      <td>Em uma campanha eleitoral atípica (até em term...</td>\n",
       "      <td>0</td>\n",
       "    </tr>\n",
       "    <tr>\n",
       "      <th>1560</th>\n",
       "      <td>\\nSTF divulga lista de sites e páginas que esp...</td>\n",
       "      <td>politica</td>\n",
       "      <td>O Supremo Tribunal Federal (STF) divulgou uma ...</td>\n",
       "      <td>0</td>\n",
       "    </tr>\n",
       "    <tr>\n",
       "      <th>1618</th>\n",
       "      <td>\\nDias Toffoli diz que quem não registrar grup...</td>\n",
       "      <td>politica</td>\n",
       "      <td>O presidente do STF, Dias Toffoli, anunciou qu...</td>\n",
       "      <td>0</td>\n",
       "    </tr>\n",
       "    <tr>\n",
       "      <th>1769</th>\n",
       "      <td>\\n21 fake news que circularam na web após Lula...</td>\n",
       "      <td>politica</td>\n",
       "      <td>Decisão do STF sobre prisão em segunda instânc...</td>\n",
       "      <td>0</td>\n",
       "    </tr>\n",
       "    <tr>\n",
       "      <th>2593</th>\n",
       "      <td>\\n11 fake news com ordens absurdas para evitar...</td>\n",
       "      <td>saude</td>\n",
       "      <td>Um dos tipos de boatos que achamos mais proble...</td>\n",
       "      <td>0</td>\n",
       "    </tr>\n",
       "    <tr>\n",
       "      <th>2952</th>\n",
       "      <td>\\nMensagens de bom dia escondem códigos secret...</td>\n",
       "      <td>tecnologia</td>\n",
       "      <td>No mundo das fake news, nem as mensagens de bo...</td>\n",
       "      <td>0</td>\n",
       "    </tr>\n",
       "    <tr>\n",
       "      <th>3002</th>\n",
       "      <td>\\nMensagens de bom dia escondem códigos secret...</td>\n",
       "      <td>tecnologia</td>\n",
       "      <td>No mundo das fake news, nem as mensagens de bo...</td>\n",
       "      <td>0</td>\n",
       "    </tr>\n",
       "    <tr>\n",
       "      <th>3161</th>\n",
       "      <td>\\nVacinaja (vacinaja.sp.gov.br) é um site fake...</td>\n",
       "      <td>tecnologia</td>\n",
       "      <td>O Vacinaja (vacinaja.sp.gov.br) é um site fake...</td>\n",
       "      <td>0</td>\n",
       "    </tr>\n",
       "    <tr>\n",
       "      <th>3451</th>\n",
       "      <td>\\nWhatsApp sinaliza mensagem como encaminhada ...</td>\n",
       "      <td>tecnologia</td>\n",
       "      <td>O WhatsApp criou a etiqueta de mensagem encami...</td>\n",
       "      <td>0</td>\n",
       "    </tr>\n",
       "  </tbody>\n",
       "</table>\n",
       "</div>"
      ],
      "text/plain": [
       "                                                 Titulo   Categoria  \\\n",
       "750   Ela ignorou o médico, mentiu para a família e ...     ciencia   \n",
       "752   Ele ignora pedido do filho para usar máscara e...     ciencia   \n",
       "755   Vítimas do negacionismo: as mortes causadas pe...     ciencia   \n",
       "782   Ele deixou de ir ao hospital por acreditar em ...     ciencia   \n",
       "911   Conselho Nacional de Saúde recomenda que minis...     ciencia   \n",
       "916   Drauzio Varella diz que decisão de Queiroga so...     ciencia   \n",
       "2015  Ministério da Defesa pede ao TSE que inclua ma...    politica   \n",
       "2027  Exército diz que não indicará novo membro para...    politica   \n",
       "2279  PP de Ciro Nogueira entra na Justiça no Piauí ...    politica   \n",
       "2526  Moraes manda tirar do ar postagens de bolsonar...    politica   \n",
       "4303  Contas falsas e spam: entenda o problema que f...  tecnologia   \n",
       "4314  Empresa que controla Facebook, Instagram e Wha...  tecnologia   \n",
       "4487  Pesquisadores identificam mais de mil perfis f...  tecnologia   \n",
       "4505  A evolução do deepfake, futuro da criação de c...  tecnologia   \n",
       "4617  Facebook remove vídeo falso de rendição do pre...  tecnologia   \n",
       "4718  Meta derruba rede de contas falsas que divulga...  tecnologia   \n",
       "4727  Telegram pode ser bloqueado por 48h no Brasil:...  tecnologia   \n",
       "4734   Rússia ataca Ucrânia também no front cibernético  tecnologia   \n",
       "4797  'Fui enganada e me apaixonei por um deepfake n...  tecnologia   \n",
       "4803  Após bloqueio do STF, Allan dos Santos ataca A...  tecnologia   \n",
       "4927  Conta de Luciano Hang, da Havan, aparece como ...  tecnologia   \n",
       "718   \\n7 s sobre a guerra da Síria que sempre circu...       mundo   \n",
       "1440  \\n41 fake news desmentidas e um balanço da des...    politica   \n",
       "1458  \\n20 fake news sobre as eleições de 2020 que v...    politica   \n",
       "1560  \\nSTF divulga lista de sites e páginas que esp...    politica   \n",
       "1618  \\nDias Toffoli diz que quem não registrar grup...    politica   \n",
       "1769  \\n21 fake news que circularam na web após Lula...    politica   \n",
       "2593  \\n11 fake news com ordens absurdas para evitar...       saude   \n",
       "2952  \\nMensagens de bom dia escondem códigos secret...  tecnologia   \n",
       "3002  \\nMensagens de bom dia escondem códigos secret...  tecnologia   \n",
       "3161  \\nVacinaja (vacinaja.sp.gov.br) é um site fake...  tecnologia   \n",
       "3451  \\nWhatsApp sinaliza mensagem como encaminhada ...  tecnologia   \n",
       "\n",
       "                                                 Resumo Status  \n",
       "750   Adriana Avancini conta que a mãe, Maria das Gr...      1  \n",
       "752   Série do g1 mostra vítimas das fake news disse...      1  \n",
       "755   Série do g1 mostra vítimas das fake news disse...      1  \n",
       "782   Luíz Carlos Guglieri, de 76 anos, fazia uso de...      1  \n",
       "911   Marcelo Queiroga restringiu a aplicação de dos...      1  \n",
       "916   Nesta quinta-feira, ministro restringiu vacina...      1  \n",
       "2015  Código-fonte está disponível desde outubro de ...      1  \n",
       "2027  Na segunda, TSE descredenciou militar que publ...      1  \n",
       "2279  Diretório do partido no Piauí apontou fake new...      1  \n",
       "2526  Ministro atendeu a pedido do PT; decisão vale ...      1  \n",
       "4303  Rede social afirma que menos de 5% de sua base...      1  \n",
       "4314  Segundo a Meta, objetivo é combater fake news;...      1  \n",
       "4487  Usuários fake disparavam mensagens de oferta d...      1  \n",
       "4505  Os chamados 'deepfakes', ou vídeos gerados por...      1  \n",
       "4617  No deepfake, Volodymyr Zelensky pede que os uc...      1  \n",
       "4718  Perfis usavam sites de fake news em campanha p...      1  \n",
       "4727  Ministro do STF determinou suspensão caso o ap...      1  \n",
       "4734  Sites do governo e bancos ucranianos foram ati...      1  \n",
       "4797  Yzabel foi enganada, com uso de tecnologia 'de...      1  \n",
       "4803  Em outubro, ministro do STF determinou bloquei...      1  \n",
       "4927  O empresário já teve um perfil suspenso em 202...      1  \n",
       "718   Crianças, religião e até estrelas do futebol f...      0  \n",
       "1440  O Boatos.org encerra a cobertura das eleições ...      0  \n",
       "1458  Em uma campanha eleitoral atípica (até em term...      0  \n",
       "1560  O Supremo Tribunal Federal (STF) divulgou uma ...      0  \n",
       "1618  O presidente do STF, Dias Toffoli, anunciou qu...      0  \n",
       "1769  Decisão do STF sobre prisão em segunda instânc...      0  \n",
       "2593  Um dos tipos de boatos que achamos mais proble...      0  \n",
       "2952  No mundo das fake news, nem as mensagens de bo...      0  \n",
       "3002  No mundo das fake news, nem as mensagens de bo...      0  \n",
       "3161  O Vacinaja (vacinaja.sp.gov.br) é um site fake...      0  \n",
       "3451  O WhatsApp criou a etiqueta de mensagem encami...      0  "
      ]
     },
     "execution_count": 27,
     "metadata": {},
     "output_type": "execute_result"
    }
   ],
   "source": [
    "fake.head(32)"
   ]
  },
  {
   "cell_type": "code",
   "execution_count": 28,
   "id": "7f6329d0",
   "metadata": {},
   "outputs": [
    {
     "data": {
      "text/plain": [
       "Titulo       8489\n",
       "Categoria    8489\n",
       "Resumo       8489\n",
       "Status       8489\n",
       "dtype: int64"
      ]
     },
     "execution_count": 28,
     "metadata": {},
     "output_type": "execute_result"
    }
   ],
   "source": [
    "df.count()"
   ]
  },
  {
   "cell_type": "markdown",
   "id": "d6ff511b",
   "metadata": {},
   "source": [
    "Como a maioria das notícias com \"fake\" são verdadeiras, resolvi mantê-las por enquanto"
   ]
  },
  {
   "cell_type": "code",
   "execution_count": 29,
   "id": "cbd3557a",
   "metadata": {},
   "outputs": [],
   "source": [
    "df = df[df[\"Resumo\"].str.contains(\"boato\")==False]"
   ]
  },
  {
   "cell_type": "code",
   "execution_count": 30,
   "id": "e273ff2d",
   "metadata": {},
   "outputs": [
    {
     "data": {
      "text/plain": [
       "Titulo       8462\n",
       "Categoria    8462\n",
       "Resumo       8462\n",
       "Status       8462\n",
       "dtype: int64"
      ]
     },
     "execution_count": 30,
     "metadata": {},
     "output_type": "execute_result"
    }
   ],
   "source": [
    "df.count()"
   ]
  },
  {
   "cell_type": "markdown",
   "id": "13203581",
   "metadata": {},
   "source": [
    "### Convertendo valores\n",
    "\n",
    "Como o csv foi salvo com todos os valores object, converteremos para os tipos mais apropriados"
   ]
  },
  {
   "cell_type": "code",
   "execution_count": 31,
   "id": "a4e50ec1",
   "metadata": {},
   "outputs": [
    {
     "data": {
      "text/plain": [
       "Titulo       object\n",
       "Categoria    object\n",
       "Resumo       object\n",
       "Status       object\n",
       "dtype: object"
      ]
     },
     "execution_count": 31,
     "metadata": {},
     "output_type": "execute_result"
    }
   ],
   "source": [
    "df.dtypes"
   ]
  },
  {
   "cell_type": "code",
   "execution_count": 32,
   "id": "e80e0e1a",
   "metadata": {},
   "outputs": [],
   "source": [
    "df = df.astype({'Titulo':'str','Categoria':'str', 'Resumo': 'str', 'Status': 'int'})"
   ]
  },
  {
   "cell_type": "code",
   "execution_count": 33,
   "id": "2c8aaefb",
   "metadata": {},
   "outputs": [
    {
     "data": {
      "text/plain": [
       "Titulo       object\n",
       "Categoria    object\n",
       "Resumo       object\n",
       "Status        int32\n",
       "dtype: object"
      ]
     },
     "execution_count": 33,
     "metadata": {},
     "output_type": "execute_result"
    }
   ],
   "source": [
    "df.dtypes"
   ]
  },
  {
   "cell_type": "code",
   "execution_count": 34,
   "id": "7ab07109",
   "metadata": {},
   "outputs": [
    {
     "name": "stdout",
     "output_type": "stream",
     "text": [
      "<class 'str'>\n"
     ]
    }
   ],
   "source": [
    "print (type(df['Titulo'].iat[0]))"
   ]
  },
  {
   "cell_type": "markdown",
   "id": "3a7efe8c",
   "metadata": {},
   "source": [
    "## Balanceado a classe de status"
   ]
  },
  {
   "cell_type": "code",
   "execution_count": 35,
   "id": "5e1aada3",
   "metadata": {},
   "outputs": [
    {
     "data": {
      "text/plain": [
       "array([1, 0])"
      ]
     },
     "execution_count": 35,
     "metadata": {},
     "output_type": "execute_result"
    }
   ],
   "source": [
    "df['Status'].unique()"
   ]
  },
  {
   "cell_type": "code",
   "execution_count": 43,
   "id": "8603c700",
   "metadata": {},
   "outputs": [
    {
     "data": {
      "text/plain": [
       "Titulo       1052\n",
       "Categoria    1052\n",
       "Resumo       1052\n",
       "Status       1052\n",
       "dtype: int64"
      ]
     },
     "execution_count": 43,
     "metadata": {},
     "output_type": "execute_result"
    }
   ],
   "source": [
    "v = df[df['Status'] == 1].count()\n",
    "f = df[df['Status'] == 0].count()\n",
    "diff = v - f\n",
    "diff"
   ]
  },
  {
   "cell_type": "code",
   "execution_count": 37,
   "id": "6fcbc255",
   "metadata": {},
   "outputs": [
    {
     "data": {
      "text/plain": [
       "Titulo       4757\n",
       "Categoria    4757\n",
       "Resumo       4757\n",
       "Status       4757\n",
       "dtype: int64"
      ]
     },
     "execution_count": 37,
     "metadata": {},
     "output_type": "execute_result"
    }
   ],
   "source": [
    "v"
   ]
  },
  {
   "cell_type": "code",
   "execution_count": 38,
   "id": "c32ed560",
   "metadata": {},
   "outputs": [
    {
     "data": {
      "text/plain": [
       "Titulo       3705\n",
       "Categoria    3705\n",
       "Resumo       3705\n",
       "Status       3705\n",
       "dtype: int64"
      ]
     },
     "execution_count": 38,
     "metadata": {},
     "output_type": "execute_result"
    }
   ],
   "source": [
    "f"
   ]
  },
  {
   "cell_type": "markdown",
   "id": "b3a3bc79",
   "metadata": {},
   "source": [
    "A princípio serão deletadas as últimas linhas"
   ]
  },
  {
   "cell_type": "code",
   "execution_count": 39,
   "id": "a1dcf8d4",
   "metadata": {},
   "outputs": [
    {
     "data": {
      "text/plain": [
       "Titulo       8462\n",
       "Categoria    8462\n",
       "Resumo       8462\n",
       "Status       8462\n",
       "dtype: int64"
      ]
     },
     "execution_count": 39,
     "metadata": {},
     "output_type": "execute_result"
    }
   ],
   "source": [
    "df.count()"
   ]
  },
  {
   "cell_type": "code",
   "execution_count": 51,
   "id": "6155b2bf",
   "metadata": {},
   "outputs": [
    {
     "ename": "ValueError",
     "evalue": "The truth value of a Series is ambiguous. Use a.empty, a.bool(), a.item(), a.any() or a.all().",
     "output_type": "error",
     "traceback": [
      "\u001b[1;31m---------------------------------------------------------------------------\u001b[0m",
      "\u001b[1;31mValueError\u001b[0m                                Traceback (most recent call last)",
      "\u001b[1;32m~\\AppData\\Local\\Temp/ipykernel_9340/702117535.py\u001b[0m in \u001b[0;36m<module>\u001b[1;34m\u001b[0m\n\u001b[1;32m----> 1\u001b[1;33m \u001b[0mdf2\u001b[0m \u001b[1;33m=\u001b[0m \u001b[0mdf\u001b[0m\u001b[1;33m[\u001b[0m\u001b[1;33m~\u001b[0m\u001b[0mdf\u001b[0m\u001b[1;33m[\u001b[0m\u001b[1;34m'Status'\u001b[0m\u001b[1;33m]\u001b[0m \u001b[1;33m==\u001b[0m \u001b[1;36m1\u001b[0m\u001b[1;33m]\u001b[0m\u001b[1;33m.\u001b[0m\u001b[0mtail\u001b[0m\u001b[1;33m(\u001b[0m\u001b[0mdiff\u001b[0m\u001b[1;33m)\u001b[0m\u001b[1;33m.\u001b[0m\u001b[0mall\u001b[0m\u001b[1;33m(\u001b[0m\u001b[1;33m)\u001b[0m \u001b[1;31m#ValueError: The truth value of a Series is ambiguous. Use a.empty, a.bool(), a.item(), a.any() or a.all()\u001b[0m\u001b[1;33m\u001b[0m\u001b[1;33m\u001b[0m\u001b[0m\n\u001b[0m\u001b[0;32m      2\u001b[0m \u001b[0mdf2\u001b[0m\u001b[1;33m\u001b[0m\u001b[1;33m\u001b[0m\u001b[0m\n",
      "\u001b[1;32m~\\anaconda3\\lib\\site-packages\\pandas\\core\\generic.py\u001b[0m in \u001b[0;36mtail\u001b[1;34m(self, n)\u001b[0m\n\u001b[0;32m   5144\u001b[0m         \u001b[1;36m8\u001b[0m   \u001b[0mzebra\u001b[0m\u001b[1;33m\u001b[0m\u001b[1;33m\u001b[0m\u001b[0m\n\u001b[0;32m   5145\u001b[0m         \"\"\"\n\u001b[1;32m-> 5146\u001b[1;33m         \u001b[1;32mif\u001b[0m \u001b[0mn\u001b[0m \u001b[1;33m==\u001b[0m \u001b[1;36m0\u001b[0m\u001b[1;33m:\u001b[0m\u001b[1;33m\u001b[0m\u001b[1;33m\u001b[0m\u001b[0m\n\u001b[0m\u001b[0;32m   5147\u001b[0m             \u001b[1;32mreturn\u001b[0m \u001b[0mself\u001b[0m\u001b[1;33m.\u001b[0m\u001b[0miloc\u001b[0m\u001b[1;33m[\u001b[0m\u001b[1;36m0\u001b[0m\u001b[1;33m:\u001b[0m\u001b[1;36m0\u001b[0m\u001b[1;33m]\u001b[0m\u001b[1;33m\u001b[0m\u001b[1;33m\u001b[0m\u001b[0m\n\u001b[0;32m   5148\u001b[0m         \u001b[1;32mreturn\u001b[0m \u001b[0mself\u001b[0m\u001b[1;33m.\u001b[0m\u001b[0miloc\u001b[0m\u001b[1;33m[\u001b[0m\u001b[1;33m-\u001b[0m\u001b[0mn\u001b[0m\u001b[1;33m:\u001b[0m\u001b[1;33m]\u001b[0m\u001b[1;33m\u001b[0m\u001b[1;33m\u001b[0m\u001b[0m\n",
      "\u001b[1;32m~\\anaconda3\\lib\\site-packages\\pandas\\core\\generic.py\u001b[0m in \u001b[0;36m__nonzero__\u001b[1;34m(self)\u001b[0m\n\u001b[0;32m   1535\u001b[0m     \u001b[1;33m@\u001b[0m\u001b[0mfinal\u001b[0m\u001b[1;33m\u001b[0m\u001b[1;33m\u001b[0m\u001b[0m\n\u001b[0;32m   1536\u001b[0m     \u001b[1;32mdef\u001b[0m \u001b[0m__nonzero__\u001b[0m\u001b[1;33m(\u001b[0m\u001b[0mself\u001b[0m\u001b[1;33m)\u001b[0m\u001b[1;33m:\u001b[0m\u001b[1;33m\u001b[0m\u001b[1;33m\u001b[0m\u001b[0m\n\u001b[1;32m-> 1537\u001b[1;33m         raise ValueError(\n\u001b[0m\u001b[0;32m   1538\u001b[0m             \u001b[1;34mf\"The truth value of a {type(self).__name__} is ambiguous. \"\u001b[0m\u001b[1;33m\u001b[0m\u001b[1;33m\u001b[0m\u001b[0m\n\u001b[0;32m   1539\u001b[0m             \u001b[1;34m\"Use a.empty, a.bool(), a.item(), a.any() or a.all().\"\u001b[0m\u001b[1;33m\u001b[0m\u001b[1;33m\u001b[0m\u001b[0m\n",
      "\u001b[1;31mValueError\u001b[0m: The truth value of a Series is ambiguous. Use a.empty, a.bool(), a.item(), a.any() or a.all()."
     ]
    }
   ],
   "source": [
    "df2 = df[~df['Status'] == 1].tail(diff).all() #ValueError: The truth value of a Series is ambiguous. Use a.empty, a.bool(), a.item(), a.any() or a.all()\n",
    "df2"
   ]
  },
  {
   "cell_type": "code",
   "execution_count": 41,
   "id": "8414cd63",
   "metadata": {},
   "outputs": [
    {
     "data": {
      "text/plain": [
       "Titulo       8462\n",
       "Categoria    8462\n",
       "Resumo       8462\n",
       "Status       8462\n",
       "dtype: int64"
      ]
     },
     "execution_count": 41,
     "metadata": {},
     "output_type": "execute_result"
    }
   ],
   "source": [
    "df.count()"
   ]
  },
  {
   "cell_type": "markdown",
   "id": "f7daf883",
   "metadata": {},
   "source": [
    "## Salvando o dataset"
   ]
  },
  {
   "cell_type": "code",
   "execution_count": 42,
   "id": "fc201944",
   "metadata": {},
   "outputs": [
    {
     "name": "stdout",
     "output_type": "stream",
     "text": [
      "                                                 Titulo   Categoria  \\\n",
      "0     Max Born, o físico quântico que alertou o mund...     ciencia   \n",
      "1     “A contenção do idoso é uma manifestação de et...     ciencia   \n",
      "2     Hubble flagra 'nuvens celestiais' e estrela ve...     ciencia   \n",
      "3     O que é a arquitetura passiva, com casas onde ...     ciencia   \n",
      "4     Como escovar os dentes direito? O que diz a ci...     ciencia   \n",
      "...                                                 ...         ...   \n",
      "3723  \\nCNN alerta para vírus na atualização do Wind...  tecnologia   \n",
      "3724  \\nFalso concurso cultural promete Audi A3 e es...  tecnologia   \n",
      "3725  \\nAviso falso de privacidade no Facebook fala ...  tecnologia   \n",
      "3726  \\nEvolução de  dá 12 horas para chegada do Fac...  tecnologia   \n",
      "3727  \\nBoato no Facebook fala de Domingo Fantástico...  tecnologia   \n",
      "\n",
      "                                                 Resumo  Status  \n",
      "0     Avô de Olivia Newton-John e amigo de Einstein,...       1  \n",
      "1     O enfermeiro Rômulo Delvalle faz parte do Mini...       1  \n",
      "2     Nova imagem e dados científicos do telescópio ...       1  \n",
      "3     O conceito surgiu com a crise do petróleo dos ...       1  \n",
      "4     Escovar os dentes de maneira eficaz reduz as c...       1  \n",
      "...                                                 ...     ...  \n",
      "3723  Um vírus no Windows Live Update é capaz de des...       0  \n",
      "3724  Um concurso cultural que premia o internauta c...       0  \n",
      "3725  Depois da implantação de novo aplicativo, usuá...       0  \n",
      "3726  Facebook dá prazo de 12 horas para usuários po...       0  \n",
      "3727  Funcionários do Facebook passarão a dar inform...       0  \n",
      "\n",
      "[8462 rows x 4 columns]\n"
     ]
    }
   ],
   "source": [
    "df.to_csv('./datasets/merged.csv', index = False, encoding='utf-8') # False: not include index\n",
    "print(df)"
   ]
  },
  {
   "cell_type": "code",
   "execution_count": null,
   "id": "b5ffd995",
   "metadata": {},
   "outputs": [],
   "source": []
  }
 ],
 "metadata": {
  "kernelspec": {
   "display_name": "Python 3 (ipykernel)",
   "language": "python",
   "name": "python3"
  },
  "language_info": {
   "codemirror_mode": {
    "name": "ipython",
    "version": 3
   },
   "file_extension": ".py",
   "mimetype": "text/x-python",
   "name": "python",
   "nbconvert_exporter": "python",
   "pygments_lexer": "ipython3",
   "version": "3.8.8"
  },
  "vscode": {
   "interpreter": {
    "hash": "369f2c481f4da34e4445cda3fffd2e751bd1c4d706f27375911949ba6bb62e1c"
   }
  }
 },
 "nbformat": 4,
 "nbformat_minor": 5
}
