{
 "cells": [
  {
   "cell_type": "markdown",
   "id": "89286b62",
   "metadata": {},
   "source": [
    "## Importações"
   ]
  },
  {
   "cell_type": "code",
   "execution_count": null,
   "id": "4dbca44d",
   "metadata": {},
   "outputs": [],
   "source": [
    "import pandas as pd"
   ]
  },
  {
   "cell_type": "markdown",
   "id": "73aa1012",
   "metadata": {},
   "source": [
    "## Criando os dataframes"
   ]
  },
  {
   "cell_type": "code",
   "execution_count": null,
   "id": "57368687",
   "metadata": {},
   "outputs": [],
   "source": [
    "df_verdadeiras = pd.read_csv('./datasets/origem/verdadeiras.csv')\n",
    "df_falsas = pd.read_csv('./datasets/origem/falsas.csv')"
   ]
  },
  {
   "cell_type": "code",
   "execution_count": null,
   "id": "7d16e512",
   "metadata": {},
   "outputs": [],
   "source": [
    "df_verdadeiras.head()"
   ]
  },
  {
   "cell_type": "code",
   "execution_count": null,
   "id": "3d32d0af",
   "metadata": {},
   "outputs": [],
   "source": [
    "df_falsas.head()"
   ]
  },
  {
   "cell_type": "markdown",
   "id": "6c94000b",
   "metadata": {},
   "source": [
    "### Deletando coluna para os dataframes ficarem iguais\n",
    "\n",
    "Devido a um erro de timeout, o algoritmo de scraping das notícias verdadeiras acabou não pegando as datas.\n",
    "Por isso, será excluído do dataset de falsas"
   ]
  },
  {
   "cell_type": "code",
   "execution_count": null,
   "id": "01ad4abc",
   "metadata": {},
   "outputs": [],
   "source": [
    "#del df_falsas['Data']\n",
    "#df_falsas.head()"
   ]
  },
  {
   "cell_type": "markdown",
   "id": "a710243c",
   "metadata": {},
   "source": [
    "## Concatenando os datasets"
   ]
  },
  {
   "cell_type": "code",
   "execution_count": null,
   "id": "c7afdb52",
   "metadata": {},
   "outputs": [],
   "source": [
    "#df = df_verdadeiras.append(df_falsas)"
   ]
  },
  {
   "cell_type": "code",
   "execution_count": null,
   "id": "ff20d181",
   "metadata": {},
   "outputs": [],
   "source": [
    "#df.head()"
   ]
  },
  {
   "cell_type": "code",
   "execution_count": null,
   "id": "39c2c97a",
   "metadata": {},
   "outputs": [],
   "source": [
    "#df.info()"
   ]
  },
  {
   "cell_type": "code",
   "execution_count": null,
   "id": "62078ca3",
   "metadata": {},
   "outputs": [],
   "source": [
    "#df.describe()"
   ]
  },
  {
   "cell_type": "markdown",
   "id": "9175f64f",
   "metadata": {},
   "source": [
    "### Removendo linhas sem resumo\n",
    "\n",
    "Como o HTML das páginas aprensetava muitas diferenças no campo resumo, ficou inviável tratar todas as possibilidades.\n",
    "Sendo assim, optou-se por incluir as linhas com mensagem de erro. Como é um quantidade pequena e o resumo é primordial\n",
    "para a nossa análise, essas linhas com erro serão excluídas."
   ]
  },
  {
   "cell_type": "code",
   "execution_count": null,
   "id": "04541061",
   "metadata": {},
   "outputs": [],
   "source": [
    "df_verdadeiras.loc[df_verdadeiras['Resumo'] == 'Erro'].count()"
   ]
  },
  {
   "cell_type": "code",
   "execution_count": null,
   "id": "f6e34a39",
   "metadata": {},
   "outputs": [],
   "source": [
    "df_falsas.loc[df_falsas['Resumo'] == 'Erro'].count()"
   ]
  },
  {
   "cell_type": "code",
   "execution_count": null,
   "id": "765efd98",
   "metadata": {},
   "outputs": [],
   "source": [
    "df_verdadeiras_erros_resumo = df_verdadeiras.loc[df_verdadeiras['Resumo'] == 'Erro']"
   ]
  },
  {
   "cell_type": "code",
   "execution_count": null,
   "id": "71c65174",
   "metadata": {},
   "outputs": [],
   "source": [
    "df_verdadeiras_erros_resumo.head(3)"
   ]
  },
  {
   "cell_type": "code",
   "execution_count": null,
   "id": "277116d0",
   "metadata": {},
   "outputs": [],
   "source": [
    "df_verdadeiras = df_verdadeiras[df_verdadeiras['Resumo'] != 'Erro']"
   ]
  },
  {
   "cell_type": "code",
   "execution_count": null,
   "id": "0e0a92f4",
   "metadata": {},
   "outputs": [],
   "source": [
    "df_verdadeiras.loc[df_verdadeiras['Resumo'] == 'Erro'].count()"
   ]
  },
  {
   "cell_type": "markdown",
   "id": "5aedc016",
   "metadata": {},
   "source": [
    "### Verificando valores nulos"
   ]
  },
  {
   "cell_type": "code",
   "execution_count": null,
   "id": "fb9b61f8",
   "metadata": {},
   "outputs": [],
   "source": [
    "df_verdadeiras.isnull().sum()"
   ]
  },
  {
   "cell_type": "code",
   "execution_count": null,
   "id": "194a5382",
   "metadata": {},
   "outputs": [],
   "source": [
    "df_falsas.isnull().sum()"
   ]
  },
  {
   "cell_type": "markdown",
   "id": "3de535dd",
   "metadata": {},
   "source": [
    "### Normalizando os dados da coluna \"status\""
   ]
  },
  {
   "cell_type": "code",
   "execution_count": null,
   "id": "38dec26d",
   "metadata": {},
   "outputs": [],
   "source": [
    "df_verdadeiras['Status'].unique()"
   ]
  },
  {
   "cell_type": "code",
   "execution_count": null,
   "id": "255e9cc7",
   "metadata": {},
   "outputs": [],
   "source": [
    "df_verdadeiras.replace({'Verdadeira': '0'}, inplace=True)"
   ]
  },
  {
   "cell_type": "code",
   "execution_count": null,
   "id": "a8d61985",
   "metadata": {},
   "outputs": [],
   "source": [
    "df_falsas.replace({'Falsa': '1'}, inplace=True)"
   ]
  },
  {
   "cell_type": "code",
   "execution_count": null,
   "id": "f0dcdcc0",
   "metadata": {},
   "outputs": [],
   "source": [
    "df_verdadeiras['Status'].unique()"
   ]
  },
  {
   "cell_type": "code",
   "execution_count": null,
   "id": "900a814a",
   "metadata": {},
   "outputs": [],
   "source": [
    "df_falsas['Status'].unique()"
   ]
  },
  {
   "cell_type": "markdown",
   "id": "4ca3cb27",
   "metadata": {},
   "source": [
    "### Removendo palavras indicativas do status\n",
    "\n",
    "Apesar do tratamento dado a essas palavras no algoritmo de scraping, alguns registros permanecem com elas, provavelmente devido a diferenças no HTML de algumas páginas. Isso acontece majoritariamente no dataset de notícias falsas."
   ]
  },
  {
   "cell_type": "code",
   "execution_count": null,
   "id": "a35fde78",
   "metadata": {},
   "outputs": [],
   "source": [
    "df_falsas.count()"
   ]
  },
  {
   "cell_type": "code",
   "execution_count": null,
   "id": "e29d2ec2",
   "metadata": {},
   "outputs": [],
   "source": [
    "df_falsas = df_falsas[~df_falsas['Resumo'].str.contains('fake|hoax|boato', case=False, regex=True)]\n",
    "\n",
    "df_falsas.count()"
   ]
  },
  {
   "cell_type": "code",
   "execution_count": null,
   "id": "dc3e2b3c",
   "metadata": {},
   "outputs": [],
   "source": [
    "df_falsas['Titulo'] = df_falsas['Titulo'].replace(r'\\n',' ', regex=True) \n",
    "\n",
    "df_falsas.count()"
   ]
  },
  {
   "cell_type": "markdown",
   "id": "13203581",
   "metadata": {},
   "source": [
    "### Convertendo valores\n",
    "\n",
    "Como o csv foi salvo com todos os valores object, converteremos para os tipos mais apropriados."
   ]
  },
  {
   "cell_type": "code",
   "execution_count": null,
   "id": "a4e50ec1",
   "metadata": {},
   "outputs": [],
   "source": [
    "df_verdadeiras.dtypes"
   ]
  },
  {
   "cell_type": "code",
   "execution_count": null,
   "id": "377fc57c",
   "metadata": {},
   "outputs": [],
   "source": [
    "df_falsas.dtypes"
   ]
  },
  {
   "cell_type": "code",
   "execution_count": null,
   "id": "e80e0e1a",
   "metadata": {},
   "outputs": [],
   "source": [
    "df_verdadeiras.convert_dtypes().dtypes  \n",
    "df_falsas.convert_dtypes().dtypes          "
   ]
  },
  {
   "cell_type": "code",
   "execution_count": null,
   "id": "2c8aaefb",
   "metadata": {},
   "outputs": [],
   "source": [
    "df_verdadeiras.dtypes"
   ]
  },
  {
   "cell_type": "code",
   "execution_count": null,
   "id": "6084fb0b",
   "metadata": {},
   "outputs": [],
   "source": [
    "df_falsas.head()"
   ]
  },
  {
   "cell_type": "code",
   "execution_count": null,
   "id": "58f328ed",
   "metadata": {},
   "outputs": [],
   "source": [
    "df_verdadeiras.head()"
   ]
  },
  {
   "cell_type": "markdown",
   "id": "87b5845e",
   "metadata": {},
   "source": [
    "## Balanceado a classe de status"
   ]
  },
  {
   "cell_type": "code",
   "execution_count": null,
   "id": "518f9f8f",
   "metadata": {},
   "outputs": [],
   "source": [
    "df_verdadeiras.count() - df_falsas.count()"
   ]
  },
  {
   "cell_type": "markdown",
   "id": "0e0cce19",
   "metadata": {},
   "source": [
    "A princípio serão deletadas as últimas linhas"
   ]
  },
  {
   "cell_type": "code",
   "execution_count": null,
   "id": "925912c5",
   "metadata": {},
   "outputs": [],
   "source": [
    "# df[\"Keep\"] = df.groupby(\"Status\")[\"Status\"].transform(\n",
    "#     lambda x: [True] * (len(x) - diff) + [False] * diff if x.name == 1 else True\n",
    "# )\n",
    "# df = df.loc[df[\"Keep\"]]"
   ]
  },
  {
   "cell_type": "code",
   "execution_count": null,
   "id": "a1de11ca",
   "metadata": {},
   "outputs": [],
   "source": [
    "df_falsas.head()"
   ]
  },
  {
   "cell_type": "markdown",
   "id": "09f32cce",
   "metadata": {},
   "source": [
    "## Salvando o dataset"
   ]
  },
  {
   "cell_type": "code",
   "execution_count": null,
   "id": "fc201944",
   "metadata": {},
   "outputs": [],
   "source": [
    "#df.to_csv('./datasets/merged.csv', index = False, encoding='utf-8') # False: not include index\n",
    "#print(df)"
   ]
  },
  {
   "cell_type": "code",
   "execution_count": null,
   "id": "b5ffd995",
   "metadata": {},
   "outputs": [],
   "source": [
    "df_verdadeiras.to_csv('./datasets/verdadeiras.csv', encoding='utf-8') # False: not include index\n",
    "df_falsas.to_csv('./datasets/falsas.csv',encoding='utf-8') # False: not include index"
   ]
  },
  {
   "cell_type": "code",
   "execution_count": null,
   "id": "bed6153a",
   "metadata": {},
   "outputs": [],
   "source": []
  }
 ],
 "metadata": {
  "kernelspec": {
   "display_name": "Python 3 (ipykernel)",
   "language": "python",
   "name": "python3"
  },
  "language_info": {
   "codemirror_mode": {
    "name": "ipython",
    "version": 3
   },
   "file_extension": ".py",
   "mimetype": "text/x-python",
   "name": "python",
   "nbconvert_exporter": "python",
   "pygments_lexer": "ipython3",
   "version": "3.8.8"
  },
  "vscode": {
   "interpreter": {
    "hash": "369f2c481f4da34e4445cda3fffd2e751bd1c4d706f27375911949ba6bb62e1c"
   }
  }
 },
 "nbformat": 4,
 "nbformat_minor": 5
}
