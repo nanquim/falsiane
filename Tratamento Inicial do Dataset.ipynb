{
 "cells": [
  {
   "cell_type": "markdown",
   "id": "89286b62",
   "metadata": {},
   "source": [
    "## Importações"
   ]
  },
  {
   "cell_type": "code",
   "execution_count": 1,
   "id": "4dbca44d",
   "metadata": {},
   "outputs": [],
   "source": [
    "import pandas as pd"
   ]
  },
  {
   "cell_type": "markdown",
   "id": "73aa1012",
   "metadata": {},
   "source": [
    "## Criando os dataframes"
   ]
  },
  {
   "cell_type": "code",
   "execution_count": 2,
   "id": "57368687",
   "metadata": {},
   "outputs": [],
   "source": [
    "df_verdadeiras = pd.read_csv('./datasets/origem/verdadeiras.csv', index_col=0)\n",
    "df_falsas = pd.read_csv('./datasets/origem/falsas.csv', index_col=0)"
   ]
  },
  {
   "cell_type": "code",
   "execution_count": 3,
   "id": "7d16e512",
   "metadata": {},
   "outputs": [
    {
     "data": {
      "text/html": [
       "<div>\n",
       "<style scoped>\n",
       "    .dataframe tbody tr th:only-of-type {\n",
       "        vertical-align: middle;\n",
       "    }\n",
       "\n",
       "    .dataframe tbody tr th {\n",
       "        vertical-align: top;\n",
       "    }\n",
       "\n",
       "    .dataframe thead th {\n",
       "        text-align: right;\n",
       "    }\n",
       "</style>\n",
       "<table border=\"1\" class=\"dataframe\">\n",
       "  <thead>\n",
       "    <tr style=\"text-align: right;\">\n",
       "      <th></th>\n",
       "      <th>Categoria</th>\n",
       "      <th>Resumo</th>\n",
       "      <th>Status</th>\n",
       "    </tr>\n",
       "    <tr>\n",
       "      <th>Titulo</th>\n",
       "      <th></th>\n",
       "      <th></th>\n",
       "      <th></th>\n",
       "    </tr>\n",
       "  </thead>\n",
       "  <tbody>\n",
       "    <tr>\n",
       "      <th>Max Born, o físico quântico que alertou o mundo sobre 'a causa de todos os males'</th>\n",
       "      <td>ciencia</td>\n",
       "      <td>Avô de Olivia Newton-John e amigo de Einstein,...</td>\n",
       "      <td>Verdadeira</td>\n",
       "    </tr>\n",
       "    <tr>\n",
       "      <th>“A contenção do idoso é uma manifestação de etarismo”, diz especialista</th>\n",
       "      <td>ciencia</td>\n",
       "      <td>O enfermeiro Rômulo Delvalle faz parte do Mini...</td>\n",
       "      <td>Verdadeira</td>\n",
       "    </tr>\n",
       "    <tr>\n",
       "      <th>Hubble flagra 'nuvens celestiais' e estrela vermelha supergigante se recuperando de explosão</th>\n",
       "      <td>ciencia</td>\n",
       "      <td>Nova imagem e dados científicos do telescópio ...</td>\n",
       "      <td>Verdadeira</td>\n",
       "    </tr>\n",
       "    <tr>\n",
       "      <th>O que é a arquitetura passiva, com casas onde não se passa calor nem frio e que quase não consomem energia</th>\n",
       "      <td>ciencia</td>\n",
       "      <td>O conceito surgiu com a crise do petróleo dos ...</td>\n",
       "      <td>Verdadeira</td>\n",
       "    </tr>\n",
       "    <tr>\n",
       "      <th>Como escovar os dentes direito? O que diz a ciência</th>\n",
       "      <td>ciencia</td>\n",
       "      <td>Escovar os dentes de maneira eficaz reduz as c...</td>\n",
       "      <td>Verdadeira</td>\n",
       "    </tr>\n",
       "  </tbody>\n",
       "</table>\n",
       "</div>"
      ],
      "text/plain": [
       "                                                   Categoria  \\\n",
       "Titulo                                                         \n",
       "Max Born, o físico quântico que alertou o mundo...   ciencia   \n",
       "“A contenção do idoso é uma manifestação de eta...   ciencia   \n",
       "Hubble flagra 'nuvens celestiais' e estrela ver...   ciencia   \n",
       "O que é a arquitetura passiva, com casas onde n...   ciencia   \n",
       "Como escovar os dentes direito? O que diz a ciê...   ciencia   \n",
       "\n",
       "                                                                                               Resumo  \\\n",
       "Titulo                                                                                                  \n",
       "Max Born, o físico quântico que alertou o mundo...  Avô de Olivia Newton-John e amigo de Einstein,...   \n",
       "“A contenção do idoso é uma manifestação de eta...  O enfermeiro Rômulo Delvalle faz parte do Mini...   \n",
       "Hubble flagra 'nuvens celestiais' e estrela ver...  Nova imagem e dados científicos do telescópio ...   \n",
       "O que é a arquitetura passiva, com casas onde n...  O conceito surgiu com a crise do petróleo dos ...   \n",
       "Como escovar os dentes direito? O que diz a ciê...  Escovar os dentes de maneira eficaz reduz as c...   \n",
       "\n",
       "                                                        Status  \n",
       "Titulo                                                          \n",
       "Max Born, o físico quântico que alertou o mundo...  Verdadeira  \n",
       "“A contenção do idoso é uma manifestação de eta...  Verdadeira  \n",
       "Hubble flagra 'nuvens celestiais' e estrela ver...  Verdadeira  \n",
       "O que é a arquitetura passiva, com casas onde n...  Verdadeira  \n",
       "Como escovar os dentes direito? O que diz a ciê...  Verdadeira  "
      ]
     },
     "execution_count": 3,
     "metadata": {},
     "output_type": "execute_result"
    }
   ],
   "source": [
    "df_verdadeiras.head()"
   ]
  },
  {
   "cell_type": "code",
   "execution_count": 4,
   "id": "3d32d0af",
   "metadata": {},
   "outputs": [
    {
     "data": {
      "text/html": [
       "<div>\n",
       "<style scoped>\n",
       "    .dataframe tbody tr th:only-of-type {\n",
       "        vertical-align: middle;\n",
       "    }\n",
       "\n",
       "    .dataframe tbody tr th {\n",
       "        vertical-align: top;\n",
       "    }\n",
       "\n",
       "    .dataframe thead th {\n",
       "        text-align: right;\n",
       "    }\n",
       "</style>\n",
       "<table border=\"1\" class=\"dataframe\">\n",
       "  <thead>\n",
       "    <tr style=\"text-align: right;\">\n",
       "      <th></th>\n",
       "      <th>Categoria</th>\n",
       "      <th>Resumo</th>\n",
       "      <th>Data</th>\n",
       "      <th>Status</th>\n",
       "    </tr>\n",
       "    <tr>\n",
       "      <th>Titulo</th>\n",
       "      <th></th>\n",
       "      <th></th>\n",
       "      <th></th>\n",
       "      <th></th>\n",
       "    </tr>\n",
       "  </thead>\n",
       "  <tbody>\n",
       "    <tr>\n",
       "      <th>\\nFenômeno Aphelion chega amanhã e vai trazer nova onda de frio</th>\n",
       "      <td>ciencia</td>\n",
       "      <td>Terra vai ficar mais longe do Sol amanhã, por ...</td>\n",
       "      <td>25/04/2022</td>\n",
       "      <td>Falsa</td>\n",
       "    </tr>\n",
       "    <tr>\n",
       "      <th>\\nAsteroide 2009 JF1 vai destruir a Terra em maio de 2022</th>\n",
       "      <td>ciencia</td>\n",
       "      <td>Asteroide de 130 metros e com força de 250 mil...</td>\n",
       "      <td>13/01/2022</td>\n",
       "      <td>Falsa</td>\n",
       "    </tr>\n",
       "    <tr>\n",
       "      <th>\\nAranha se esconde na praia, parece obra de arte e tem veneno mortal</th>\n",
       "      <td>ciencia</td>\n",
       "      <td>Aranha de espécie mortal, que parece uma obra ...</td>\n",
       "      <td>09/11/2021</td>\n",
       "      <td>Falsa</td>\n",
       "    </tr>\n",
       "    <tr>\n",
       "      <th>\\nHá um Vulcão em Ribeirão Preto (São Paulo) prestes a entrar em erupção</th>\n",
       "      <td>ciencia</td>\n",
       "      <td>Fumaça tóxica que está saindo do solo em Ribei...</td>\n",
       "      <td>05/11/2021</td>\n",
       "      <td>Falsa</td>\n",
       "    </tr>\n",
       "    <tr>\n",
       "      <th>\\nPerigeu da Lua gigante entre o Canadá e Rússia é mostrado em vídeo</th>\n",
       "      <td>ciencia</td>\n",
       "      <td>Vídeo mostra o fenômeno da Lua chamado Perigeu...</td>\n",
       "      <td>27/08/2021</td>\n",
       "      <td>Falsa</td>\n",
       "    </tr>\n",
       "  </tbody>\n",
       "</table>\n",
       "</div>"
      ],
      "text/plain": [
       "                                                   Categoria  \\\n",
       "Titulo                                                         \n",
       "\\nFenômeno Aphelion chega amanhã e vai trazer n...   ciencia   \n",
       "\\nAsteroide 2009 JF1 vai destruir a Terra em ma...   ciencia   \n",
       "\\nAranha se esconde na praia, parece obra de ar...   ciencia   \n",
       "\\nHá um Vulcão em Ribeirão Preto (São Paulo) pr...   ciencia   \n",
       "\\nPerigeu da Lua gigante entre o Canadá e Rússi...   ciencia   \n",
       "\n",
       "                                                                                               Resumo  \\\n",
       "Titulo                                                                                                  \n",
       "\\nFenômeno Aphelion chega amanhã e vai trazer n...  Terra vai ficar mais longe do Sol amanhã, por ...   \n",
       "\\nAsteroide 2009 JF1 vai destruir a Terra em ma...  Asteroide de 130 metros e com força de 250 mil...   \n",
       "\\nAranha se esconde na praia, parece obra de ar...  Aranha de espécie mortal, que parece uma obra ...   \n",
       "\\nHá um Vulcão em Ribeirão Preto (São Paulo) pr...  Fumaça tóxica que está saindo do solo em Ribei...   \n",
       "\\nPerigeu da Lua gigante entre o Canadá e Rússi...  Vídeo mostra o fenômeno da Lua chamado Perigeu...   \n",
       "\n",
       "                                                          Data Status  \n",
       "Titulo                                                                 \n",
       "\\nFenômeno Aphelion chega amanhã e vai trazer n...  25/04/2022  Falsa  \n",
       "\\nAsteroide 2009 JF1 vai destruir a Terra em ma...  13/01/2022  Falsa  \n",
       "\\nAranha se esconde na praia, parece obra de ar...  09/11/2021  Falsa  \n",
       "\\nHá um Vulcão em Ribeirão Preto (São Paulo) pr...  05/11/2021  Falsa  \n",
       "\\nPerigeu da Lua gigante entre o Canadá e Rússi...  27/08/2021  Falsa  "
      ]
     },
     "execution_count": 4,
     "metadata": {},
     "output_type": "execute_result"
    }
   ],
   "source": [
    "df_falsas.head()"
   ]
  },
  {
   "cell_type": "markdown",
   "id": "6c94000b",
   "metadata": {},
   "source": [
    "### Deletando coluna para os dataframes ficarem iguais\n",
    "\n",
    "Devido a um erro de timeout, o algoritmo de scraping das notícias verdadeiras acabou não pegando as datas.\n",
    "Por isso, será excluído do dataset de falsas"
   ]
  },
  {
   "cell_type": "code",
   "execution_count": 5,
   "id": "01ad4abc",
   "metadata": {},
   "outputs": [],
   "source": [
    "#del df_falsas['Data']\n",
    "#df_falsas.head()"
   ]
  },
  {
   "cell_type": "markdown",
   "id": "a710243c",
   "metadata": {},
   "source": [
    "## Concatenando os datasets"
   ]
  },
  {
   "cell_type": "code",
   "execution_count": 6,
   "id": "c7afdb52",
   "metadata": {},
   "outputs": [],
   "source": [
    "#df = df_verdadeiras.append(df_falsas)"
   ]
  },
  {
   "cell_type": "code",
   "execution_count": 7,
   "id": "ff20d181",
   "metadata": {},
   "outputs": [],
   "source": [
    "#df.head()"
   ]
  },
  {
   "cell_type": "code",
   "execution_count": 8,
   "id": "39c2c97a",
   "metadata": {},
   "outputs": [],
   "source": [
    "#df.info()"
   ]
  },
  {
   "cell_type": "code",
   "execution_count": 9,
   "id": "62078ca3",
   "metadata": {},
   "outputs": [],
   "source": [
    "#df.describe()"
   ]
  },
  {
   "cell_type": "markdown",
   "id": "9175f64f",
   "metadata": {},
   "source": [
    "### Removendo linhas sem resumo\n",
    "\n",
    "Como o HTML das páginas aprensetava muitas diferenças no campo resumo, ficou inviável tratar todas as possibilidades.\n",
    "Sendo assim, optou-se por incluir as linhas com mensagem de erro. Como é um quantidade pequena e o resumo é primordial\n",
    "para a nossa análise, essas linhas com erro serão excluídas."
   ]
  },
  {
   "cell_type": "code",
   "execution_count": 10,
   "id": "04541061",
   "metadata": {},
   "outputs": [
    {
     "data": {
      "text/plain": [
       "Categoria    170\n",
       "Resumo       170\n",
       "Status       170\n",
       "dtype: int64"
      ]
     },
     "execution_count": 10,
     "metadata": {},
     "output_type": "execute_result"
    }
   ],
   "source": [
    "df_verdadeiras.loc[df_verdadeiras['Resumo'] == 'Erro'].count()"
   ]
  },
  {
   "cell_type": "code",
   "execution_count": 11,
   "id": "f8733f0e",
   "metadata": {},
   "outputs": [
    {
     "data": {
      "text/plain": [
       "Categoria    0\n",
       "Resumo       0\n",
       "Data         0\n",
       "Status       0\n",
       "dtype: int64"
      ]
     },
     "execution_count": 11,
     "metadata": {},
     "output_type": "execute_result"
    }
   ],
   "source": [
    "df_falsas.loc[df_falsas['Resumo'] == 'Erro'].count()"
   ]
  },
  {
   "cell_type": "code",
   "execution_count": 12,
   "id": "f8736d5d",
   "metadata": {},
   "outputs": [],
   "source": [
    "df_verdadeiras_erros_resumo = df_verdadeiras.loc[df_verdadeiras['Resumo'] == 'Erro']"
   ]
  },
  {
   "cell_type": "code",
   "execution_count": 13,
   "id": "71c65174",
   "metadata": {},
   "outputs": [
    {
     "data": {
      "text/html": [
       "<div>\n",
       "<style scoped>\n",
       "    .dataframe tbody tr th:only-of-type {\n",
       "        vertical-align: middle;\n",
       "    }\n",
       "\n",
       "    .dataframe tbody tr th {\n",
       "        vertical-align: top;\n",
       "    }\n",
       "\n",
       "    .dataframe thead th {\n",
       "        text-align: right;\n",
       "    }\n",
       "</style>\n",
       "<table border=\"1\" class=\"dataframe\">\n",
       "  <thead>\n",
       "    <tr style=\"text-align: right;\">\n",
       "      <th></th>\n",
       "      <th>Categoria</th>\n",
       "      <th>Resumo</th>\n",
       "      <th>Status</th>\n",
       "    </tr>\n",
       "    <tr>\n",
       "      <th>Titulo</th>\n",
       "      <th></th>\n",
       "      <th></th>\n",
       "      <th></th>\n",
       "    </tr>\n",
       "  </thead>\n",
       "  <tbody>\n",
       "    <tr>\n",
       "      <th>Viagem à Lua: minuto a minuto</th>\n",
       "      <td>ciencia</td>\n",
       "      <td>Erro</td>\n",
       "      <td>Verdadeira</td>\n",
       "    </tr>\n",
       "    <tr>\n",
       "      <th>Entenda por que mosquitos picam mais algumas pessoas que outras</th>\n",
       "      <td>ciencia</td>\n",
       "      <td>Erro</td>\n",
       "      <td>Verdadeira</td>\n",
       "    </tr>\n",
       "    <tr>\n",
       "      <th>James Webb: o que revelam as fotos do supertelescópio?</th>\n",
       "      <td>ciencia</td>\n",
       "      <td>Erro</td>\n",
       "      <td>Verdadeira</td>\n",
       "    </tr>\n",
       "  </tbody>\n",
       "</table>\n",
       "</div>"
      ],
      "text/plain": [
       "                                                   Categoria Resumo  \\\n",
       "Titulo                                                                \n",
       "Viagem à Lua: minuto a minuto                        ciencia   Erro   \n",
       "Entenda por que mosquitos picam mais algumas pe...   ciencia   Erro   \n",
       "James Webb: o que revelam as fotos do supertele...   ciencia   Erro   \n",
       "\n",
       "                                                        Status  \n",
       "Titulo                                                          \n",
       "Viagem à Lua: minuto a minuto                       Verdadeira  \n",
       "Entenda por que mosquitos picam mais algumas pe...  Verdadeira  \n",
       "James Webb: o que revelam as fotos do supertele...  Verdadeira  "
      ]
     },
     "execution_count": 13,
     "metadata": {},
     "output_type": "execute_result"
    }
   ],
   "source": [
    "df_verdadeiras_erros_resumo.head(3)"
   ]
  },
  {
   "cell_type": "code",
   "execution_count": 14,
   "id": "277116d0",
   "metadata": {},
   "outputs": [],
   "source": [
    "df_verdadeiras = df_verdadeiras[df_verdadeiras['Resumo'] != 'Erro']"
   ]
  },
  {
   "cell_type": "code",
   "execution_count": 15,
   "id": "0e0a92f4",
   "metadata": {},
   "outputs": [
    {
     "data": {
      "text/plain": [
       "Categoria    0\n",
       "Resumo       0\n",
       "Status       0\n",
       "dtype: int64"
      ]
     },
     "execution_count": 15,
     "metadata": {},
     "output_type": "execute_result"
    }
   ],
   "source": [
    "df_verdadeiras.loc[df_verdadeiras['Resumo'] == 'Erro'].count()"
   ]
  },
  {
   "cell_type": "markdown",
   "id": "5aedc016",
   "metadata": {},
   "source": [
    "### Verificando valores nulos"
   ]
  },
  {
   "cell_type": "code",
   "execution_count": 16,
   "id": "fb9b61f8",
   "metadata": {},
   "outputs": [
    {
     "data": {
      "text/plain": [
       "Categoria    0\n",
       "Resumo       0\n",
       "Status       0\n",
       "dtype: int64"
      ]
     },
     "execution_count": 16,
     "metadata": {},
     "output_type": "execute_result"
    }
   ],
   "source": [
    "df_verdadeiras.isnull().sum()"
   ]
  },
  {
   "cell_type": "code",
   "execution_count": 17,
   "id": "79f85d44",
   "metadata": {},
   "outputs": [
    {
     "data": {
      "text/plain": [
       "Categoria    0\n",
       "Resumo       0\n",
       "Data         0\n",
       "Status       0\n",
       "dtype: int64"
      ]
     },
     "execution_count": 17,
     "metadata": {},
     "output_type": "execute_result"
    }
   ],
   "source": [
    "df_falsas.isnull().sum()"
   ]
  },
  {
   "cell_type": "markdown",
   "id": "3de535dd",
   "metadata": {},
   "source": [
    "### Normalizando os dados da coluna \"status\""
   ]
  },
  {
   "cell_type": "code",
   "execution_count": 18,
   "id": "38dec26d",
   "metadata": {},
   "outputs": [
    {
     "data": {
      "text/plain": [
       "array(['Verdadeira'], dtype=object)"
      ]
     },
     "execution_count": 18,
     "metadata": {},
     "output_type": "execute_result"
    }
   ],
   "source": [
    "df_verdadeiras['Status'].unique()"
   ]
  },
  {
   "cell_type": "code",
   "execution_count": 19,
   "id": "255e9cc7",
   "metadata": {},
   "outputs": [],
   "source": [
    "df_verdadeiras.replace({'Verdadeira': '0'}, inplace=True)"
   ]
  },
  {
   "cell_type": "code",
   "execution_count": 20,
   "id": "a8d61985",
   "metadata": {},
   "outputs": [],
   "source": [
    "df_falsas.replace({'Falsa': '1'}, inplace=True)"
   ]
  },
  {
   "cell_type": "code",
   "execution_count": 21,
   "id": "f0dcdcc0",
   "metadata": {},
   "outputs": [
    {
     "data": {
      "text/plain": [
       "array(['0'], dtype=object)"
      ]
     },
     "execution_count": 21,
     "metadata": {},
     "output_type": "execute_result"
    }
   ],
   "source": [
    "df_verdadeiras['Status'].unique()"
   ]
  },
  {
   "cell_type": "code",
   "execution_count": 22,
   "id": "c6b439f6",
   "metadata": {},
   "outputs": [
    {
     "data": {
      "text/plain": [
       "array(['1'], dtype=object)"
      ]
     },
     "execution_count": 22,
     "metadata": {},
     "output_type": "execute_result"
    }
   ],
   "source": [
    "df_falsas['Status'].unique()"
   ]
  },
  {
   "cell_type": "markdown",
   "id": "4ca3cb27",
   "metadata": {},
   "source": [
    "### Removendo palavras indicativas do status\n",
    "\n",
    "Apesar do tratamento dado a essas palavras no algoritmo de scraping, alguns registros permanecem com elas, provavelmente devido a diferenças no HTML de algumas páginas. Isso acontece majoritariamente no dataset de notícias falsas."
   ]
  },
  {
   "cell_type": "code",
   "execution_count": 23,
   "id": "d62d6b83",
   "metadata": {},
   "outputs": [
    {
     "data": {
      "text/plain": [
       "Categoria    3729\n",
       "Resumo       3729\n",
       "Data         3729\n",
       "Status       3729\n",
       "dtype: int64"
      ]
     },
     "execution_count": 23,
     "metadata": {},
     "output_type": "execute_result"
    }
   ],
   "source": [
    "df_falsas.count()"
   ]
  },
  {
   "cell_type": "code",
   "execution_count": 24,
   "id": "e29d2ec2",
   "metadata": {},
   "outputs": [
    {
     "data": {
      "text/plain": [
       "Categoria    3672\n",
       "Resumo       3672\n",
       "Data         3672\n",
       "Status       3672\n",
       "dtype: int64"
      ]
     },
     "execution_count": 24,
     "metadata": {},
     "output_type": "execute_result"
    }
   ],
   "source": [
    "df_falsas = df_falsas[~df_falsas['Resumo'].str.contains('fake|hoax|boato', case=False, regex=True)]\n",
    "\n",
    "df_falsas.count()"
   ]
  },
  {
   "cell_type": "markdown",
   "id": "13203581",
   "metadata": {},
   "source": [
    "### Convertendo valores\n",
    "\n",
    "Como o csv foi salvo com todos os valores object, converteremos para os tipos mais apropriados."
   ]
  },
  {
   "cell_type": "code",
   "execution_count": 25,
   "id": "a4e50ec1",
   "metadata": {},
   "outputs": [
    {
     "data": {
      "text/plain": [
       "Categoria    object\n",
       "Resumo       object\n",
       "Status       object\n",
       "dtype: object"
      ]
     },
     "execution_count": 25,
     "metadata": {},
     "output_type": "execute_result"
    }
   ],
   "source": [
    "df_verdadeiras.dtypes"
   ]
  },
  {
   "cell_type": "code",
   "execution_count": 26,
   "id": "8ce06b07",
   "metadata": {},
   "outputs": [
    {
     "data": {
      "text/plain": [
       "Categoria    object\n",
       "Resumo       object\n",
       "Data         object\n",
       "Status       object\n",
       "dtype: object"
      ]
     },
     "execution_count": 26,
     "metadata": {},
     "output_type": "execute_result"
    }
   ],
   "source": [
    "df_falsas.dtypes"
   ]
  },
  {
   "cell_type": "code",
   "execution_count": 27,
   "id": "e80e0e1a",
   "metadata": {},
   "outputs": [
    {
     "data": {
      "text/plain": [
       "Categoria    string\n",
       "Resumo       string\n",
       "Data         string\n",
       "Status       string\n",
       "dtype: object"
      ]
     },
     "execution_count": 27,
     "metadata": {},
     "output_type": "execute_result"
    }
   ],
   "source": [
    "df_verdadeiras.convert_dtypes().dtypes  \n",
    "df_falsas.convert_dtypes().dtypes          "
   ]
  },
  {
   "cell_type": "code",
   "execution_count": 28,
   "id": "2c8aaefb",
   "metadata": {},
   "outputs": [
    {
     "data": {
      "text/plain": [
       "Categoria    object\n",
       "Resumo       object\n",
       "Status       object\n",
       "dtype: object"
      ]
     },
     "execution_count": 28,
     "metadata": {},
     "output_type": "execute_result"
    }
   ],
   "source": [
    "df_verdadeiras.dtypes"
   ]
  },
  {
   "cell_type": "code",
   "execution_count": 29,
   "id": "6cbbe4f5",
   "metadata": {},
   "outputs": [
    {
     "data": {
      "text/html": [
       "<div>\n",
       "<style scoped>\n",
       "    .dataframe tbody tr th:only-of-type {\n",
       "        vertical-align: middle;\n",
       "    }\n",
       "\n",
       "    .dataframe tbody tr th {\n",
       "        vertical-align: top;\n",
       "    }\n",
       "\n",
       "    .dataframe thead th {\n",
       "        text-align: right;\n",
       "    }\n",
       "</style>\n",
       "<table border=\"1\" class=\"dataframe\">\n",
       "  <thead>\n",
       "    <tr style=\"text-align: right;\">\n",
       "      <th></th>\n",
       "      <th>Categoria</th>\n",
       "      <th>Resumo</th>\n",
       "      <th>Data</th>\n",
       "      <th>Status</th>\n",
       "    </tr>\n",
       "    <tr>\n",
       "      <th>Titulo</th>\n",
       "      <th></th>\n",
       "      <th></th>\n",
       "      <th></th>\n",
       "      <th></th>\n",
       "    </tr>\n",
       "  </thead>\n",
       "  <tbody>\n",
       "    <tr>\n",
       "      <th>\\nFenômeno Aphelion chega amanhã e vai trazer nova onda de frio</th>\n",
       "      <td>ciencia</td>\n",
       "      <td>Terra vai ficar mais longe do Sol amanhã, por ...</td>\n",
       "      <td>25/04/2022</td>\n",
       "      <td>1</td>\n",
       "    </tr>\n",
       "    <tr>\n",
       "      <th>\\nAsteroide 2009 JF1 vai destruir a Terra em maio de 2022</th>\n",
       "      <td>ciencia</td>\n",
       "      <td>Asteroide de 130 metros e com força de 250 mil...</td>\n",
       "      <td>13/01/2022</td>\n",
       "      <td>1</td>\n",
       "    </tr>\n",
       "    <tr>\n",
       "      <th>\\nAranha se esconde na praia, parece obra de arte e tem veneno mortal</th>\n",
       "      <td>ciencia</td>\n",
       "      <td>Aranha de espécie mortal, que parece uma obra ...</td>\n",
       "      <td>09/11/2021</td>\n",
       "      <td>1</td>\n",
       "    </tr>\n",
       "    <tr>\n",
       "      <th>\\nHá um Vulcão em Ribeirão Preto (São Paulo) prestes a entrar em erupção</th>\n",
       "      <td>ciencia</td>\n",
       "      <td>Fumaça tóxica que está saindo do solo em Ribei...</td>\n",
       "      <td>05/11/2021</td>\n",
       "      <td>1</td>\n",
       "    </tr>\n",
       "    <tr>\n",
       "      <th>\\nPerigeu da Lua gigante entre o Canadá e Rússia é mostrado em vídeo</th>\n",
       "      <td>ciencia</td>\n",
       "      <td>Vídeo mostra o fenômeno da Lua chamado Perigeu...</td>\n",
       "      <td>27/08/2021</td>\n",
       "      <td>1</td>\n",
       "    </tr>\n",
       "  </tbody>\n",
       "</table>\n",
       "</div>"
      ],
      "text/plain": [
       "                                                   Categoria  \\\n",
       "Titulo                                                         \n",
       "\\nFenômeno Aphelion chega amanhã e vai trazer n...   ciencia   \n",
       "\\nAsteroide 2009 JF1 vai destruir a Terra em ma...   ciencia   \n",
       "\\nAranha se esconde na praia, parece obra de ar...   ciencia   \n",
       "\\nHá um Vulcão em Ribeirão Preto (São Paulo) pr...   ciencia   \n",
       "\\nPerigeu da Lua gigante entre o Canadá e Rússi...   ciencia   \n",
       "\n",
       "                                                                                               Resumo  \\\n",
       "Titulo                                                                                                  \n",
       "\\nFenômeno Aphelion chega amanhã e vai trazer n...  Terra vai ficar mais longe do Sol amanhã, por ...   \n",
       "\\nAsteroide 2009 JF1 vai destruir a Terra em ma...  Asteroide de 130 metros e com força de 250 mil...   \n",
       "\\nAranha se esconde na praia, parece obra de ar...  Aranha de espécie mortal, que parece uma obra ...   \n",
       "\\nHá um Vulcão em Ribeirão Preto (São Paulo) pr...  Fumaça tóxica que está saindo do solo em Ribei...   \n",
       "\\nPerigeu da Lua gigante entre o Canadá e Rússi...  Vídeo mostra o fenômeno da Lua chamado Perigeu...   \n",
       "\n",
       "                                                          Data Status  \n",
       "Titulo                                                                 \n",
       "\\nFenômeno Aphelion chega amanhã e vai trazer n...  25/04/2022      1  \n",
       "\\nAsteroide 2009 JF1 vai destruir a Terra em ma...  13/01/2022      1  \n",
       "\\nAranha se esconde na praia, parece obra de ar...  09/11/2021      1  \n",
       "\\nHá um Vulcão em Ribeirão Preto (São Paulo) pr...  05/11/2021      1  \n",
       "\\nPerigeu da Lua gigante entre o Canadá e Rússi...  27/08/2021      1  "
      ]
     },
     "execution_count": 29,
     "metadata": {},
     "output_type": "execute_result"
    }
   ],
   "source": [
    "df_falsas.head()"
   ]
  },
  {
   "cell_type": "code",
   "execution_count": 30,
   "id": "0b7cbafa",
   "metadata": {},
   "outputs": [
    {
     "data": {
      "text/html": [
       "<div>\n",
       "<style scoped>\n",
       "    .dataframe tbody tr th:only-of-type {\n",
       "        vertical-align: middle;\n",
       "    }\n",
       "\n",
       "    .dataframe tbody tr th {\n",
       "        vertical-align: top;\n",
       "    }\n",
       "\n",
       "    .dataframe thead th {\n",
       "        text-align: right;\n",
       "    }\n",
       "</style>\n",
       "<table border=\"1\" class=\"dataframe\">\n",
       "  <thead>\n",
       "    <tr style=\"text-align: right;\">\n",
       "      <th></th>\n",
       "      <th>Categoria</th>\n",
       "      <th>Resumo</th>\n",
       "      <th>Status</th>\n",
       "    </tr>\n",
       "    <tr>\n",
       "      <th>Titulo</th>\n",
       "      <th></th>\n",
       "      <th></th>\n",
       "      <th></th>\n",
       "    </tr>\n",
       "  </thead>\n",
       "  <tbody>\n",
       "    <tr>\n",
       "      <th>Max Born, o físico quântico que alertou o mundo sobre 'a causa de todos os males'</th>\n",
       "      <td>ciencia</td>\n",
       "      <td>Avô de Olivia Newton-John e amigo de Einstein,...</td>\n",
       "      <td>0</td>\n",
       "    </tr>\n",
       "    <tr>\n",
       "      <th>“A contenção do idoso é uma manifestação de etarismo”, diz especialista</th>\n",
       "      <td>ciencia</td>\n",
       "      <td>O enfermeiro Rômulo Delvalle faz parte do Mini...</td>\n",
       "      <td>0</td>\n",
       "    </tr>\n",
       "    <tr>\n",
       "      <th>Hubble flagra 'nuvens celestiais' e estrela vermelha supergigante se recuperando de explosão</th>\n",
       "      <td>ciencia</td>\n",
       "      <td>Nova imagem e dados científicos do telescópio ...</td>\n",
       "      <td>0</td>\n",
       "    </tr>\n",
       "    <tr>\n",
       "      <th>O que é a arquitetura passiva, com casas onde não se passa calor nem frio e que quase não consomem energia</th>\n",
       "      <td>ciencia</td>\n",
       "      <td>O conceito surgiu com a crise do petróleo dos ...</td>\n",
       "      <td>0</td>\n",
       "    </tr>\n",
       "    <tr>\n",
       "      <th>Como escovar os dentes direito? O que diz a ciência</th>\n",
       "      <td>ciencia</td>\n",
       "      <td>Escovar os dentes de maneira eficaz reduz as c...</td>\n",
       "      <td>0</td>\n",
       "    </tr>\n",
       "  </tbody>\n",
       "</table>\n",
       "</div>"
      ],
      "text/plain": [
       "                                                   Categoria  \\\n",
       "Titulo                                                         \n",
       "Max Born, o físico quântico que alertou o mundo...   ciencia   \n",
       "“A contenção do idoso é uma manifestação de eta...   ciencia   \n",
       "Hubble flagra 'nuvens celestiais' e estrela ver...   ciencia   \n",
       "O que é a arquitetura passiva, com casas onde n...   ciencia   \n",
       "Como escovar os dentes direito? O que diz a ciê...   ciencia   \n",
       "\n",
       "                                                                                               Resumo  \\\n",
       "Titulo                                                                                                  \n",
       "Max Born, o físico quântico que alertou o mundo...  Avô de Olivia Newton-John e amigo de Einstein,...   \n",
       "“A contenção do idoso é uma manifestação de eta...  O enfermeiro Rômulo Delvalle faz parte do Mini...   \n",
       "Hubble flagra 'nuvens celestiais' e estrela ver...  Nova imagem e dados científicos do telescópio ...   \n",
       "O que é a arquitetura passiva, com casas onde n...  O conceito surgiu com a crise do petróleo dos ...   \n",
       "Como escovar os dentes direito? O que diz a ciê...  Escovar os dentes de maneira eficaz reduz as c...   \n",
       "\n",
       "                                                   Status  \n",
       "Titulo                                                     \n",
       "Max Born, o físico quântico que alertou o mundo...      0  \n",
       "“A contenção do idoso é uma manifestação de eta...      0  \n",
       "Hubble flagra 'nuvens celestiais' e estrela ver...      0  \n",
       "O que é a arquitetura passiva, com casas onde n...      0  \n",
       "Como escovar os dentes direito? O que diz a ciê...      0  "
      ]
     },
     "execution_count": 30,
     "metadata": {},
     "output_type": "execute_result"
    }
   ],
   "source": [
    "df_verdadeiras.head()"
   ]
  },
  {
   "cell_type": "markdown",
   "id": "87b5845e",
   "metadata": {},
   "source": [
    "## Balanceado a classe de status"
   ]
  },
  {
   "cell_type": "code",
   "execution_count": 31,
   "id": "518f9f8f",
   "metadata": {},
   "outputs": [
    {
     "data": {
      "text/plain": [
       "Categoria    1088.0\n",
       "Data            NaN\n",
       "Resumo       1088.0\n",
       "Status       1088.0\n",
       "dtype: float64"
      ]
     },
     "execution_count": 31,
     "metadata": {},
     "output_type": "execute_result"
    }
   ],
   "source": [
    "df_verdadeiras.count() - df_falsas.count()"
   ]
  },
  {
   "cell_type": "markdown",
   "id": "0e0cce19",
   "metadata": {},
   "source": [
    "A princípio serão deletadas as últimas linhas"
   ]
  },
  {
   "cell_type": "code",
   "execution_count": 32,
   "id": "925912c5",
   "metadata": {},
   "outputs": [],
   "source": [
    "# df[\"Keep\"] = df.groupby(\"Status\")[\"Status\"].transform(\n",
    "#     lambda x: [True] * (len(x) - diff) + [False] * diff if x.name == 1 else True\n",
    "# )\n",
    "# df = df.loc[df[\"Keep\"]]"
   ]
  },
  {
   "cell_type": "code",
   "execution_count": 33,
   "id": "8a208ef6",
   "metadata": {},
   "outputs": [
    {
     "data": {
      "text/html": [
       "<div>\n",
       "<style scoped>\n",
       "    .dataframe tbody tr th:only-of-type {\n",
       "        vertical-align: middle;\n",
       "    }\n",
       "\n",
       "    .dataframe tbody tr th {\n",
       "        vertical-align: top;\n",
       "    }\n",
       "\n",
       "    .dataframe thead th {\n",
       "        text-align: right;\n",
       "    }\n",
       "</style>\n",
       "<table border=\"1\" class=\"dataframe\">\n",
       "  <thead>\n",
       "    <tr style=\"text-align: right;\">\n",
       "      <th></th>\n",
       "      <th>Categoria</th>\n",
       "      <th>Resumo</th>\n",
       "      <th>Data</th>\n",
       "      <th>Status</th>\n",
       "    </tr>\n",
       "    <tr>\n",
       "      <th>Titulo</th>\n",
       "      <th></th>\n",
       "      <th></th>\n",
       "      <th></th>\n",
       "      <th></th>\n",
       "    </tr>\n",
       "  </thead>\n",
       "  <tbody>\n",
       "    <tr>\n",
       "      <th>\\nFenômeno Aphelion chega amanhã e vai trazer nova onda de frio</th>\n",
       "      <td>ciencia</td>\n",
       "      <td>Terra vai ficar mais longe do Sol amanhã, por ...</td>\n",
       "      <td>25/04/2022</td>\n",
       "      <td>1</td>\n",
       "    </tr>\n",
       "    <tr>\n",
       "      <th>\\nAsteroide 2009 JF1 vai destruir a Terra em maio de 2022</th>\n",
       "      <td>ciencia</td>\n",
       "      <td>Asteroide de 130 metros e com força de 250 mil...</td>\n",
       "      <td>13/01/2022</td>\n",
       "      <td>1</td>\n",
       "    </tr>\n",
       "    <tr>\n",
       "      <th>\\nAranha se esconde na praia, parece obra de arte e tem veneno mortal</th>\n",
       "      <td>ciencia</td>\n",
       "      <td>Aranha de espécie mortal, que parece uma obra ...</td>\n",
       "      <td>09/11/2021</td>\n",
       "      <td>1</td>\n",
       "    </tr>\n",
       "    <tr>\n",
       "      <th>\\nHá um Vulcão em Ribeirão Preto (São Paulo) prestes a entrar em erupção</th>\n",
       "      <td>ciencia</td>\n",
       "      <td>Fumaça tóxica que está saindo do solo em Ribei...</td>\n",
       "      <td>05/11/2021</td>\n",
       "      <td>1</td>\n",
       "    </tr>\n",
       "    <tr>\n",
       "      <th>\\nPerigeu da Lua gigante entre o Canadá e Rússia é mostrado em vídeo</th>\n",
       "      <td>ciencia</td>\n",
       "      <td>Vídeo mostra o fenômeno da Lua chamado Perigeu...</td>\n",
       "      <td>27/08/2021</td>\n",
       "      <td>1</td>\n",
       "    </tr>\n",
       "  </tbody>\n",
       "</table>\n",
       "</div>"
      ],
      "text/plain": [
       "                                                   Categoria  \\\n",
       "Titulo                                                         \n",
       "\\nFenômeno Aphelion chega amanhã e vai trazer n...   ciencia   \n",
       "\\nAsteroide 2009 JF1 vai destruir a Terra em ma...   ciencia   \n",
       "\\nAranha se esconde na praia, parece obra de ar...   ciencia   \n",
       "\\nHá um Vulcão em Ribeirão Preto (São Paulo) pr...   ciencia   \n",
       "\\nPerigeu da Lua gigante entre o Canadá e Rússi...   ciencia   \n",
       "\n",
       "                                                                                               Resumo  \\\n",
       "Titulo                                                                                                  \n",
       "\\nFenômeno Aphelion chega amanhã e vai trazer n...  Terra vai ficar mais longe do Sol amanhã, por ...   \n",
       "\\nAsteroide 2009 JF1 vai destruir a Terra em ma...  Asteroide de 130 metros e com força de 250 mil...   \n",
       "\\nAranha se esconde na praia, parece obra de ar...  Aranha de espécie mortal, que parece uma obra ...   \n",
       "\\nHá um Vulcão em Ribeirão Preto (São Paulo) pr...  Fumaça tóxica que está saindo do solo em Ribei...   \n",
       "\\nPerigeu da Lua gigante entre o Canadá e Rússi...  Vídeo mostra o fenômeno da Lua chamado Perigeu...   \n",
       "\n",
       "                                                          Data Status  \n",
       "Titulo                                                                 \n",
       "\\nFenômeno Aphelion chega amanhã e vai trazer n...  25/04/2022      1  \n",
       "\\nAsteroide 2009 JF1 vai destruir a Terra em ma...  13/01/2022      1  \n",
       "\\nAranha se esconde na praia, parece obra de ar...  09/11/2021      1  \n",
       "\\nHá um Vulcão em Ribeirão Preto (São Paulo) pr...  05/11/2021      1  \n",
       "\\nPerigeu da Lua gigante entre o Canadá e Rússi...  27/08/2021      1  "
      ]
     },
     "execution_count": 33,
     "metadata": {},
     "output_type": "execute_result"
    }
   ],
   "source": [
    "df_falsas.head()"
   ]
  },
  {
   "cell_type": "markdown",
   "id": "09f32cce",
   "metadata": {},
   "source": [
    "## Salvando o dataset"
   ]
  },
  {
   "cell_type": "code",
   "execution_count": 34,
   "id": "fc201944",
   "metadata": {},
   "outputs": [],
   "source": [
    "#df.to_csv('./datasets/merged.csv', index = False, encoding='utf-8') # False: not include index\n",
    "#print(df)"
   ]
  },
  {
   "cell_type": "code",
   "execution_count": 35,
   "id": "b5ffd995",
   "metadata": {},
   "outputs": [],
   "source": [
    "df_verdadeiras.to_csv('./datasets/verdadeiras.csv', encoding='utf-8') # False: not include index\n",
    "df_falsas.to_csv('./datasets/falsas.csv',encoding='utf-8') # False: not include index"
   ]
  },
  {
   "cell_type": "code",
   "execution_count": null,
   "id": "a0cddd70",
   "metadata": {},
   "outputs": [],
   "source": []
  }
 ],
 "metadata": {
  "kernelspec": {
   "display_name": "Python 3 (ipykernel)",
   "language": "python",
   "name": "python3"
  },
  "language_info": {
   "codemirror_mode": {
    "name": "ipython",
    "version": 3
   },
   "file_extension": ".py",
   "mimetype": "text/x-python",
   "name": "python",
   "nbconvert_exporter": "python",
   "pygments_lexer": "ipython3",
   "version": "3.8.8"
  },
  "vscode": {
   "interpreter": {
    "hash": "369f2c481f4da34e4445cda3fffd2e751bd1c4d706f27375911949ba6bb62e1c"
   }
  }
 },
 "nbformat": 4,
 "nbformat_minor": 5
}
